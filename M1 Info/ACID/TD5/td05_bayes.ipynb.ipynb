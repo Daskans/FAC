{
    "cells": [
        {
            "cell_type": "markdown",
            "metadata": {},
            "source": [
                "# Analyse, classification et indexation des données: feuille 6\n",
                "### Classifieur bayésien"
            ]
        },
        {
            "cell_type": "markdown",
            "metadata": {},
            "source": [
                "Dans la première partie de ce TD on s’appuie sur l’exemple du cours qui consiste à séparer des poissons en deux classes : bars et saumons. La classification sera faite à partir d’une seule caractéristique (la longueur) dans un premier temps, puis à partir de deux caractéristiques (longueur et brillance). En d’autres termes, le descripteur sera d’abord de dimension 1 puis de dimension 2."
            ]
        },
        {
            "cell_type": "markdown",
            "metadata": {},
            "source": [
                "#### Données\n",
                "Dans cet exercice, nous allons travailler avec un fichier (<code>salmon_seabass.csv</code>) contenant des informations sur la longueur et la brillance de deux classes de poissons : les saumons et les bars.\n",
                "Le fichier est disponible à l'adresse : \n",
                "\n",
                "https://www.labri.fr/perso/zemmari/datasets/salmon_seabass.csv\n",
                "\n",
                "1- Chargez le fichier, et notez que la colonne <code>species</code> indique la catégorie du poisson : \n",
                "\n",
                "    - 0 : il s'agit d'un saumon \n",
                "    - 1 : il s'agit d'un bar\n"
            ]
        },
        {
            "cell_type": "code",
            "execution_count": 277,
            "metadata": {},
            "outputs": [],
            "source": [
                "import pandas as pa"
            ]
        },
        {
            "cell_type": "code",
            "execution_count": 278,
            "metadata": {},
            "outputs": [],
            "source": [
                "data = pa.read_csv(\"salmon_seabass.csv\", sep=\";\")"
            ]
        },
        {
            "cell_type": "code",
            "execution_count": 279,
            "metadata": {},
            "outputs": [
                {
                    "data": {
                        "text/html": [
                            "<div>\n",
                            "<style scoped>\n",
                            "    .dataframe tbody tr th:only-of-type {\n",
                            "        vertical-align: middle;\n",
                            "    }\n",
                            "\n",
                            "    .dataframe tbody tr th {\n",
                            "        vertical-align: top;\n",
                            "    }\n",
                            "\n",
                            "    .dataframe thead th {\n",
                            "        text-align: right;\n",
                            "    }\n",
                            "</style>\n",
                            "<table border=\"1\" class=\"dataframe\">\n",
                            "  <thead>\n",
                            "    <tr style=\"text-align: right;\">\n",
                            "      <th></th>\n",
                            "      <th>lightness</th>\n",
                            "      <th>width</th>\n",
                            "      <th>species</th>\n",
                            "    </tr>\n",
                            "  </thead>\n",
                            "  <tbody>\n",
                            "    <tr>\n",
                            "      <th>0</th>\n",
                            "      <td>9.710457</td>\n",
                            "      <td>8.673699</td>\n",
                            "      <td>0</td>\n",
                            "    </tr>\n",
                            "    <tr>\n",
                            "      <th>1</th>\n",
                            "      <td>6.528089</td>\n",
                            "      <td>7.330887</td>\n",
                            "      <td>0</td>\n",
                            "    </tr>\n",
                            "    <tr>\n",
                            "      <th>2</th>\n",
                            "      <td>1.770695</td>\n",
                            "      <td>7.599677</td>\n",
                            "      <td>0</td>\n",
                            "    </tr>\n",
                            "    <tr>\n",
                            "      <th>3</th>\n",
                            "      <td>4.819293</td>\n",
                            "      <td>7.328198</td>\n",
                            "      <td>0</td>\n",
                            "    </tr>\n",
                            "    <tr>\n",
                            "      <th>4</th>\n",
                            "      <td>6.769638</td>\n",
                            "      <td>8.575629</td>\n",
                            "      <td>0</td>\n",
                            "    </tr>\n",
                            "    <tr>\n",
                            "      <th>5</th>\n",
                            "      <td>3.623250</td>\n",
                            "      <td>7.221906</td>\n",
                            "      <td>0</td>\n",
                            "    </tr>\n",
                            "    <tr>\n",
                            "      <th>6</th>\n",
                            "      <td>6.591439</td>\n",
                            "      <td>6.936439</td>\n",
                            "      <td>0</td>\n",
                            "    </tr>\n",
                            "    <tr>\n",
                            "      <th>7</th>\n",
                            "      <td>2.924506</td>\n",
                            "      <td>8.552978</td>\n",
                            "      <td>0</td>\n",
                            "    </tr>\n",
                            "    <tr>\n",
                            "      <th>8</th>\n",
                            "      <td>5.196399</td>\n",
                            "      <td>7.576571</td>\n",
                            "      <td>0</td>\n",
                            "    </tr>\n",
                            "    <tr>\n",
                            "      <th>9</th>\n",
                            "      <td>8.047453</td>\n",
                            "      <td>8.361587</td>\n",
                            "      <td>0</td>\n",
                            "    </tr>\n",
                            "  </tbody>\n",
                            "</table>\n",
                            "</div>"
                        ],
                        "text/plain": [
                            "   lightness     width  species\n",
                            "0   9.710457  8.673699        0\n",
                            "1   6.528089  7.330887        0\n",
                            "2   1.770695  7.599677        0\n",
                            "3   4.819293  7.328198        0\n",
                            "4   6.769638  8.575629        0\n",
                            "5   3.623250  7.221906        0\n",
                            "6   6.591439  6.936439        0\n",
                            "7   2.924506  8.552978        0\n",
                            "8   5.196399  7.576571        0\n",
                            "9   8.047453  8.361587        0"
                        ]
                    },
                    "execution_count": 279,
                    "metadata": {},
                    "output_type": "execute_result"
                }
            ],
            "source": [
                "data.head(10)"
            ]
        },
        {
            "cell_type": "markdown",
            "metadata": {},
            "source": [
                "2- Affichez le nombre de valeurs fournies pour chacune des deux classes. On les nommera <code>sizeVTSaumon</code>\n",
                "et <code>sizeVTBar</code>. "
            ]
        },
        {
            "cell_type": "code",
            "execution_count": 280,
            "metadata": {},
            "outputs": [
                {
                    "name": "stdout",
                    "output_type": "stream",
                    "text": [
                        "1000\n",
                        "500\n"
                    ]
                }
            ],
            "source": [
                "sizeVTSaumon = (data[\"species\"]==0).sum()\n",
                "sizeVTBar = (data[\"species\"]==1).sum()\n",
                "print(sizeVTSaumon)\n",
                "print(sizeVTBar)"
            ]
        },
        {
            "cell_type": "markdown",
            "metadata": {},
            "source": [
                "### Exercice 1. classifieur avec une seule dimension\n",
                "\n",
                "### 1.0 Préalable\n",
                "Dans un premier temps, nous allons considérer un seul descripteur : la longueur <code>width</code> des poissons. "
            ]
        },
        {
            "cell_type": "markdown",
            "metadata": {},
            "source": [
                "a- Mélanger les données."
            ]
        },
        {
            "cell_type": "code",
            "execution_count": 281,
            "metadata": {},
            "outputs": [
                {
                    "data": {
                        "text/html": [
                            "<div>\n",
                            "<style scoped>\n",
                            "    .dataframe tbody tr th:only-of-type {\n",
                            "        vertical-align: middle;\n",
                            "    }\n",
                            "\n",
                            "    .dataframe tbody tr th {\n",
                            "        vertical-align: top;\n",
                            "    }\n",
                            "\n",
                            "    .dataframe thead th {\n",
                            "        text-align: right;\n",
                            "    }\n",
                            "</style>\n",
                            "<table border=\"1\" class=\"dataframe\">\n",
                            "  <thead>\n",
                            "    <tr style=\"text-align: right;\">\n",
                            "      <th></th>\n",
                            "      <th>lightness</th>\n",
                            "      <th>width</th>\n",
                            "      <th>species</th>\n",
                            "    </tr>\n",
                            "  </thead>\n",
                            "  <tbody>\n",
                            "    <tr>\n",
                            "      <th>0</th>\n",
                            "      <td>8.152582</td>\n",
                            "      <td>7.444339</td>\n",
                            "      <td>0</td>\n",
                            "    </tr>\n",
                            "    <tr>\n",
                            "      <th>1</th>\n",
                            "      <td>7.133654</td>\n",
                            "      <td>9.062184</td>\n",
                            "      <td>1</td>\n",
                            "    </tr>\n",
                            "    <tr>\n",
                            "      <th>2</th>\n",
                            "      <td>6.769638</td>\n",
                            "      <td>8.575629</td>\n",
                            "      <td>0</td>\n",
                            "    </tr>\n",
                            "    <tr>\n",
                            "      <th>3</th>\n",
                            "      <td>6.797340</td>\n",
                            "      <td>7.949469</td>\n",
                            "      <td>0</td>\n",
                            "    </tr>\n",
                            "    <tr>\n",
                            "      <th>4</th>\n",
                            "      <td>16.919790</td>\n",
                            "      <td>11.335826</td>\n",
                            "      <td>1</td>\n",
                            "    </tr>\n",
                            "    <tr>\n",
                            "      <th>5</th>\n",
                            "      <td>8.228239</td>\n",
                            "      <td>12.098869</td>\n",
                            "      <td>1</td>\n",
                            "    </tr>\n",
                            "    <tr>\n",
                            "      <th>6</th>\n",
                            "      <td>7.542873</td>\n",
                            "      <td>7.613606</td>\n",
                            "      <td>0</td>\n",
                            "    </tr>\n",
                            "    <tr>\n",
                            "      <th>7</th>\n",
                            "      <td>4.725922</td>\n",
                            "      <td>9.376949</td>\n",
                            "      <td>0</td>\n",
                            "    </tr>\n",
                            "    <tr>\n",
                            "      <th>8</th>\n",
                            "      <td>3.536316</td>\n",
                            "      <td>8.820471</td>\n",
                            "      <td>0</td>\n",
                            "    </tr>\n",
                            "    <tr>\n",
                            "      <th>9</th>\n",
                            "      <td>5.732462</td>\n",
                            "      <td>8.282529</td>\n",
                            "      <td>0</td>\n",
                            "    </tr>\n",
                            "  </tbody>\n",
                            "</table>\n",
                            "</div>"
                        ],
                        "text/plain": [
                            "   lightness      width  species\n",
                            "0   8.152582   7.444339        0\n",
                            "1   7.133654   9.062184        1\n",
                            "2   6.769638   8.575629        0\n",
                            "3   6.797340   7.949469        0\n",
                            "4  16.919790  11.335826        1\n",
                            "5   8.228239  12.098869        1\n",
                            "6   7.542873   7.613606        0\n",
                            "7   4.725922   9.376949        0\n",
                            "8   3.536316   8.820471        0\n",
                            "9   5.732462   8.282529        0"
                        ]
                    },
                    "execution_count": 281,
                    "metadata": {},
                    "output_type": "execute_result"
                }
            ],
            "source": [
                "mix_data = data.sample(frac=1).reset_index(drop=True)\n",
                "mix_data.head(10)"
            ]
        },
        {
            "cell_type": "markdown",
            "metadata": {},
            "source": [
                "b- Créer deux variables $X$ et $y$ respectivement la longueur du poisson et son espèce"
            ]
        },
        {
            "cell_type": "code",
            "execution_count": 282,
            "metadata": {},
            "outputs": [],
            "source": [
                "import matplotlib.pyplot as plt\n",
                "%matplotlib inline"
            ]
        },
        {
            "cell_type": "code",
            "execution_count": 283,
            "metadata": {},
            "outputs": [
                {
                    "data": {
                        "image/png": "[encoded data removed]",
                        "text/plain": [
                            "<Figure size 640x480 with 1 Axes>"
                        ]
                    },
                    "metadata": {},
                    "output_type": "display_data"
                }
            ],
            "source": [
                "X = mix_data[\"width\"]\n",
                "y = mix_data[\"species\"]\n",
                "plt.scatter(X, y)\n",
                "plt.show()"
            ]
        },
        {
            "cell_type": "markdown",
            "metadata": {},
            "source": [
                "c-  Découper les données en deux parties : 80% pour l'entrainement et 20% pour le test."
            ]
        },
        {
            "cell_type": "code",
            "execution_count": 284,
            "metadata": {},
            "outputs": [],
            "source": [
                "from sklearn.model_selection import train_test_split"
            ]
        },
        {
            "cell_type": "code",
            "execution_count": 285,
            "metadata": {},
            "outputs": [
                {
                    "data": {
                        "text/plain": [
                            "1116    0\n",
                            "1368    1\n",
                            "422     0\n",
                            "413     1\n",
                            "451     0\n",
                            "       ..\n",
                            "983     1\n",
                            "799     0\n",
                            "1265    0\n",
                            "1150    0\n",
                            "824     1\n",
                            "Name: species, Length: 300, dtype: int64"
                        ]
                    },
                    "execution_count": 285,
                    "metadata": {},
                    "output_type": "execute_result"
                }
            ],
            "source": [
                "X_train, X_test, Y_train, Y_test = train_test_split(X, y, test_size=0.2, random_state=42)\n",
                "X_test\n",
                "Y_test"
            ]
        },
        {
            "cell_type": "markdown",
            "metadata": {},
            "source": [
                "#### 1.1. Classifieur ML\n",
                "\n",
                "a- Calculer les estimateurs non biaisés de la moyenne et de l'écart type pour chacune des espèces de poisson. Attention, il faut travailler sur la portion d'entraînement du dataset.  \n"
            ]
        },
        {
            "cell_type": "code",
            "execution_count": 286,
            "metadata": {},
            "outputs": [],
            "source": [
                "import numpy as np"
            ]
        },
        {
            "cell_type": "code",
            "execution_count": 287,
            "metadata": {},
            "outputs": [
                {
                    "data": {
                        "text/plain": [
                            "(np.float64(8.079613578044057),\n",
                            " np.float64(0.9866498731430554),\n",
                            " np.float64(12.067205253621177),\n",
                            " np.float64(2.055001680011212))"
                        ]
                    },
                    "execution_count": 287,
                    "metadata": {},
                    "output_type": "execute_result"
                }
            ],
            "source": [
                "salmon_train = X_train[Y_train == 0]\n",
                "bass_train = X_train[Y_train == 1]\n",
                "salmon_mean, bass_mean = salmon_train.mean(), bass_train.mean()\n",
                "salmon_standard, bass_standard = salmon_train.std(), bass_train.std()\n",
                "salmon_mean, salmon_standard, bass_mean, bass_standard"
            ]
        },
        {
            "cell_type": "markdown",
            "metadata": {},
            "source": [
                "b- Dessiner les courbes des lois normales correspondant à la fonction de maximum de vraisemblance. Indiquer la frontière de décision. Quelle est l'espèce prédite d'un poisson de longueur 12 ?"
            ]
        },
        {
            "cell_type": "code",
            "execution_count": 288,
            "metadata": {},
            "outputs": [],
            "source": [
                "import scipy.stats"
            ]
        },
        {
            "cell_type": "code",
            "execution_count": 289,
            "metadata": {},
            "outputs": [
                {
                    "data": {
                        "image/png": "[encoded data removed]",
                        "text/plain": [
                            "<Figure size 640x480 with 1 Axes>"
                        ]
                    },
                    "metadata": {},
                    "output_type": "display_data"
                }
            ],
            "source": [
                "x_min, x_max = 0, 20\n",
                "x = np.linspace(x_min, x_max, 100)\n",
                "\n",
                "\n",
                "y_salmon = scipy.stats.norm.pdf(x, salmon_mean, salmon_standard)\n",
                "y_bass = scipy.stats.norm.pdf(x, bass_mean, bass_standard)\n",
                "\n",
                "plt.grid()\n",
                "plt.plot(x, y_salmon, c='red')\n",
                "plt.plot(x, y_bass, c='b')\n",
                "plt.show()"
            ]
        },
        {
            "cell_type": "markdown",
            "metadata": {},
            "source": []
        },
        {
            "cell_type": "markdown",
            "metadata": {},
            "source": [
                "c- Evaluer la qualité du modèle entrainé."
            ]
        },
        {
            "cell_type": "code",
            "execution_count": 290,
            "metadata": {},
            "outputs": [],
            "source": [
                "from sklearn.metrics import confusion_matrix, accuracy_score"
            ]
        },
        {
            "cell_type": "code",
            "execution_count": 291,
            "metadata": {},
            "outputs": [],
            "source": [
                "X_test = list(X_test)"
            ]
        },
        {
            "cell_type": "code",
            "execution_count": 303,
            "metadata": {},
            "outputs": [
                {
                    "name": "stdout",
                    "output_type": "stream",
                    "text": [
                        "[[195   9]\n",
                        " [ 11  85]]\n",
                        "93.33333333333332859638%\n"
                    ]
                }
            ],
            "source": [
                "y_pred = []\n",
                "for i in range (len(X_test)):\n",
                "    if scipy.stats.norm.pdf(X_test[i], salmon_mean, salmon_standard) > scipy.stats.norm.pdf(X_test[i], bass_mean, bass_standard):\n",
                "        y_pred.append(0)\n",
                "    else:\n",
                "        y_pred.append(1)\n",
                "cm = confusion_matrix(Y_test, y_pred)\n",
                "print(cm)\n",
                "\n",
                "acc = accuracy_score(Y_test, y_pred)\n",
                "print('{:.20%}'.format(acc))"
            ]
        },
        {
            "cell_type": "markdown",
            "metadata": {},
            "source": [
                "#### 1.2. Classifieur MAP\n",
                "\n",
                "a- Ecrire une fonction <code>classify()</code> permettant également de classifier les poissons mais en utilisant cette fois un classifieur a posteriori."
            ]
        },
        {
            "cell_type": "code",
            "execution_count": 304,
            "metadata": {},
            "outputs": [
                {
                    "name": "stdout",
                    "output_type": "stream",
                    "text": [
                        "class prédite pour item 0 : 0\n"
                    ]
                }
            ],
            "source": [
                "def classify(item):\n",
                "    r_salmon = len(salmon_train)/len(X_train)\n",
                "    r_bass = len(bass_train)/len(X_train)\n",
                "    # print(r_salmon)\n",
                "    # print(r_bass)\n",
                "    p_salmon = scipy.stats.norm.pdf(item, salmon_mean, salmon_standard)\n",
                "    p_bass = scipy.stats.norm.pdf(item, bass_mean, bass_standard)\n",
                "    if p_salmon * r_salmon > p_bass * r_bass:\n",
                "        return 0\n",
                "    return 1\n",
                "\n",
                "print(\"class prédite pour item 0 :\", classify(X_test[0]))"
            ]
        },
        {
            "cell_type": "markdown",
            "metadata": {},
            "source": [
                "b- Evaluer ce classifieur "
            ]
        },
        {
            "cell_type": "code",
            "execution_count": 305,
            "metadata": {},
            "outputs": [
                {
                    "name": "stdout",
                    "output_type": "stream",
                    "text": [
                        "[[199   5]\n",
                        " [ 16  80]]\n",
                        "93.00000000000000000000%\n"
                    ]
                }
            ],
            "source": [
                "y_pred = []\n",
                "for i in range (len(X_test)):\n",
                "    y_pred.append(classify(X_test[i]))\n",
                "    \n",
                "cm = confusion_matrix(Y_test, y_pred)\n",
                "print(cm)\n",
                "\n",
                "acc = accuracy_score(Y_test, y_pred)\n",
                "print('{:.20%}'.format(acc))"
            ]
        },
        {
            "cell_type": "markdown",
            "metadata": {},
            "source": []
        },
        {
            "cell_type": "markdown",
            "metadata": {},
            "source": [
                "### Exercice 2. Classifieur avec deux descripteurs "
            ]
        },
        {
            "cell_type": "markdown",
            "metadata": {},
            "source": [
                "Dans cet exercice, nous allons considérer le dataset dans sa globalité. Nous allons donc baser notre classification sur les deux descripteurs <code>width</code> et <code>lightness</code>.\n",
                "\n",
                "Reprogrammer et tester les deux classifieurs vus dans l'exercice 1. Quel est l'impact du rajout du nouveau descripteur ?"
            ]
        },
        {
            "cell_type": "code",
            "execution_count": null,
            "metadata": {},
            "outputs": [],
            "source": []
        },
        {
            "cell_type": "code",
            "execution_count": null,
            "metadata": {},
            "outputs": [],
            "source": []
        },
        {
            "cell_type": "code",
            "execution_count": null,
            "metadata": {},
            "outputs": [],
            "source": []
        },
        {
            "cell_type": "code",
            "execution_count": null,
            "metadata": {},
            "outputs": [],
            "source": []
        },
        {
            "cell_type": "code",
            "execution_count": null,
            "metadata": {},
            "outputs": [],
            "source": []
        },
        {
            "cell_type": "code",
            "execution_count": null,
            "metadata": {},
            "outputs": [],
            "source": []
        },
        {
            "cell_type": "markdown",
            "metadata": {},
            "source": [
                "### Exercice 3. Bayes avec <code>sklearn</code>"
            ]
        },
        {
            "cell_type": "markdown",
            "metadata": {},
            "source": [
                "Comparer vos résultats avec ceux obtenus avec un classifieur de Bayes de la bibliothèque <code>sklearn</code>."
            ]
        },
        {
            "cell_type": "code",
            "execution_count": null,
            "metadata": {},
            "outputs": [],
            "source": []
        },
        {
            "cell_type": "code",
            "execution_count": 306,
            "metadata": {},
            "outputs": [],
            "source": [
                "from sklearn.naive_bayes import GaussianNB"
            ]
        },
        {
            "cell_type": "code",
            "execution_count": null,
            "metadata": {},
            "outputs": [],
            "source": []
        },
        {
            "cell_type": "code",
            "execution_count": null,
            "metadata": {},
            "outputs": [],
            "source": []
        },
        {
            "cell_type": "code",
            "execution_count": null,
            "metadata": {},
            "outputs": [],
            "source": []
        }
    ],
    "metadata": {
        "kernelspec": {
            "display_name": "venv",
            "language": "python",
            "name": "python3"
        },
        "language_info": {
            "codemirror_mode": {
                "name": "ipython",
                "version": 3
            },
            "file_extension": ".py",
            "mimetype": "text/x-python",
            "name": "python",
            "nbconvert_exporter": "python",
            "pygments_lexer": "ipython3",
            "version": "3.11.2"
        }
    },
    "nbformat": 4,
    "nbformat_minor": 4
}
