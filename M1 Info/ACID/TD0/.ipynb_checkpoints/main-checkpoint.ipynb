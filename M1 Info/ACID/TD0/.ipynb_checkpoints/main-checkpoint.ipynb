{
 "cells": [
  {
   "cell_type": "markdown",
   "metadata": {},
   "source": [
    "#### Université de Bordeaux,  Master Mention Informatique\n",
    "\n",
    "# Analyse, classification et indexation des données : feuille 1\n",
    "### Rappels : Probabilités et statistiques, Algèbre linéaire avec Python"
   ]
  },
  {
   "cell_type": "markdown",
   "metadata": {},
   "source": [
    "### Présentation\n",
    "\n",
    "L’objectif de ce premier TD est de rassembler des outils et bibliothèques <code>Python</code> nécessaires pour la suite. Vous travaillerez dans ce fichier td00.ipynb en ajoutant le code à écrire, ainsi que tous les commentaires qui vous permettront d'utiliser efficacement ces outils dans les TD suivants.\n",
    "\n",
    "Le code est écrit dans une suite de cellules. Pour ajouter une cellule utilisez l'item *Insérer* du menu.  \n",
    "\n",
    "Pour exécuter les instructions d'une cellule, il suffit de placer le curseur dans la cellule souhaitée et d'exécuter la cellule (en cliquant sur <code>Exécuter</code> ou avec <code>Ctrl + Return</code>). \n",
    "\n",
    "<em>Remarque :</em> le choix a été fait de travailler sur des <code>jupyter notebooks</code> mais vous pouvez tout à fait utiliser votre IDE préféré pour écrire/exécuter vos instructions et vos programmes <code>Python</code>."
   ]
  },
  {
   "cell_type": "markdown",
   "metadata": {},
   "source": [
    "# 1. Vecteurs et matrices\n",
    "\n",
    "Un élément unique, un vecteur ligne ou colonne sont des cas particuliers de matrice (tableau 2D).\n",
    "\n",
    "Une des bibliothèques de <code>Python</code> les plus utilisées en algèbre linéaire est la bibliothèque <code>numpy</code>. On commence par l'importer pour pouvoir l'utiliser pour la suite."
   ]
  },
  {
   "cell_type": "code",
   "execution_count": 1,
   "metadata": {},
   "outputs": [],
   "source": [
    "import numpy as np"
   ]
  },
  {
   "cell_type": "markdown",
   "metadata": {},
   "source": [
    "### Exercice 1.\n",
    "\n",
    "Création de tableaux, accès à un élément d'un tableau "
   ]
  },
  {
   "cell_type": "markdown",
   "metadata": {},
   "source": [
    "Création d'un vecteur ligne :"
   ]
  },
  {
   "cell_type": "code",
   "execution_count": 2,
   "metadata": {},
   "outputs": [
    {
     "data": {
      "text/plain": [
       "array([10, 20, 30, 40])"
      ]
     },
     "execution_count": 2,
     "metadata": {},
     "output_type": "execute_result"
    }
   ],
   "source": [
    "L1 = np.array([10, 20, 30, 40])\n",
    "L1"
   ]
  },
  {
   "cell_type": "markdown",
   "metadata": {},
   "source": [
    "Création d'un vecteur colonne :"
   ]
  },
  {
   "cell_type": "code",
   "execution_count": 3,
   "metadata": {},
   "outputs": [
    {
     "data": {
      "text/plain": [
       "array([[10],\n",
       "       [20],\n",
       "       [30],\n",
       "       [40]])"
      ]
     },
     "execution_count": 3,
     "metadata": {},
     "output_type": "execute_result"
    }
   ],
   "source": [
    "C1 = np.array([[10], [20], [30], [40]])\n",
    "C1"
   ]
  },
  {
   "cell_type": "markdown",
   "metadata": {},
   "source": [
    "<b>Question : </b> Comment obtenir <code>C1</code> à partir de <code>L1</code> ?"
   ]
  },
  {
   "cell_type": "code",
   "execution_count": 4,
   "metadata": {},
   "outputs": [
    {
     "data": {
      "text/plain": [
       "array([[10],\n",
       "       [20],\n",
       "       [30],\n",
       "       [40]])"
      ]
     },
     "execution_count": 4,
     "metadata": {},
     "output_type": "execute_result"
    }
   ],
   "source": [
    "C2 = L1.reshape((4, 1))\n",
    "C2"
   ]
  },
  {
   "cell_type": "markdown",
   "metadata": {},
   "source": [
    "Accès à un élément d'un tableau. Les indices commencent à <code>0</code>."
   ]
  },
  {
   "cell_type": "code",
   "execution_count": 5,
   "metadata": {},
   "outputs": [
    {
     "data": {
      "text/plain": [
       "30"
      ]
     },
     "execution_count": 5,
     "metadata": {},
     "output_type": "execute_result"
    }
   ],
   "source": [
    "L1[2]"
   ]
  },
  {
   "cell_type": "code",
   "execution_count": 6,
   "metadata": {},
   "outputs": [
    {
     "data": {
      "text/plain": [
       "array([30])"
      ]
     },
     "execution_count": 6,
     "metadata": {},
     "output_type": "execute_result"
    }
   ],
   "source": [
    "C1[2]"
   ]
  },
  {
   "cell_type": "code",
   "execution_count": 7,
   "metadata": {},
   "outputs": [
    {
     "data": {
      "text/plain": [
       "30"
      ]
     },
     "execution_count": 7,
     "metadata": {},
     "output_type": "execute_result"
    }
   ],
   "source": [
    "C1[2][0]"
   ]
  },
  {
   "cell_type": "markdown",
   "metadata": {},
   "source": [
    "Création d'une matrice :"
   ]
  },
  {
   "cell_type": "code",
   "execution_count": 8,
   "metadata": {},
   "outputs": [
    {
     "data": {
      "text/plain": [
       "array([[10, 20, 30],\n",
       "       [40, 50, 60],\n",
       "       [70, 80, 90]])"
      ]
     },
     "execution_count": 8,
     "metadata": {},
     "output_type": "execute_result"
    }
   ],
   "source": [
    "M1 = np.array([[10, 20, 30], [40, 50, 60], [70, 80, 90]])\n",
    "M1"
   ]
  },
  {
   "cell_type": "markdown",
   "metadata": {},
   "source": [
    "La matrice est <code>3 x 3</code> :"
   ]
  },
  {
   "cell_type": "code",
   "execution_count": 9,
   "metadata": {},
   "outputs": [
    {
     "data": {
      "text/plain": [
       "(3, 3)"
      ]
     },
     "execution_count": 9,
     "metadata": {},
     "output_type": "execute_result"
    }
   ],
   "source": [
    "M1.shape"
   ]
  },
  {
   "cell_type": "markdown",
   "metadata": {},
   "source": [
    "Taille d'une matrice, d'un vecteur, d'un tableau :"
   ]
  },
  {
   "cell_type": "code",
   "execution_count": 10,
   "metadata": {},
   "outputs": [
    {
     "data": {
      "text/plain": [
       "4"
      ]
     },
     "execution_count": 10,
     "metadata": {},
     "output_type": "execute_result"
    }
   ],
   "source": [
    "np.size(L1)"
   ]
  },
  {
   "cell_type": "code",
   "execution_count": 11,
   "metadata": {},
   "outputs": [
    {
     "data": {
      "text/plain": [
       "4"
      ]
     },
     "execution_count": 11,
     "metadata": {},
     "output_type": "execute_result"
    }
   ],
   "source": [
    "np.size(C1)"
   ]
  },
  {
   "cell_type": "code",
   "execution_count": 12,
   "metadata": {},
   "outputs": [
    {
     "data": {
      "text/plain": [
       "9"
      ]
     },
     "execution_count": 12,
     "metadata": {},
     "output_type": "execute_result"
    }
   ],
   "source": [
    "np.size(M1)"
   ]
  },
  {
   "cell_type": "code",
   "execution_count": 13,
   "metadata": {},
   "outputs": [
    {
     "data": {
      "text/plain": [
       "3"
      ]
     },
     "execution_count": 13,
     "metadata": {},
     "output_type": "execute_result"
    }
   ],
   "source": [
    "np.size(M1[1])"
   ]
  },
  {
   "cell_type": "markdown",
   "metadata": {},
   "source": [
    " Accéder aux éléments d'un tableau 2D (indiceLigne, indiceColonne) :"
   ]
  },
  {
   "cell_type": "code",
   "execution_count": 14,
   "metadata": {},
   "outputs": [
    {
     "data": {
      "text/plain": [
       "60"
      ]
     },
     "execution_count": 14,
     "metadata": {},
     "output_type": "execute_result"
    }
   ],
   "source": [
    "iL = 1\n",
    "iC = 2\n",
    "M1[iL, iC]"
   ]
  },
  {
   "cell_type": "markdown",
   "metadata": {},
   "source": [
    "Extraire une ligne, une colonne :"
   ]
  },
  {
   "cell_type": "code",
   "execution_count": 15,
   "metadata": {},
   "outputs": [
    {
     "name": "stdout",
     "output_type": "stream",
     "text": [
      "[40 50 60]\n",
      "[30 60 90]\n"
     ]
    }
   ],
   "source": [
    "print(M1[1, :])\n",
    "print(M1[:, 2])"
   ]
  },
  {
   "cell_type": "markdown",
   "metadata": {},
   "source": [
    "Extraire une sous-matrice :"
   ]
  },
  {
   "cell_type": "code",
   "execution_count": 27,
   "metadata": {},
   "outputs": [
    {
     "data": {
      "text/plain": [
       "array([[40]])"
      ]
     },
     "execution_count": 27,
     "metadata": {},
     "output_type": "execute_result"
    }
   ],
   "source": [
    "M1[1:2, 0:1]"
   ]
  },
  {
   "cell_type": "markdown",
   "metadata": {},
   "source": [
    "Fonctions prédéfinies de création de tableaux :"
   ]
  },
  {
   "cell_type": "code",
   "execution_count": 28,
   "metadata": {},
   "outputs": [
    {
     "data": {
      "text/plain": [
       "array([0., 0., 0.])"
      ]
     },
     "execution_count": 28,
     "metadata": {},
     "output_type": "execute_result"
    }
   ],
   "source": [
    "M2 = np.zeros(3) \n",
    "M2"
   ]
  },
  {
   "cell_type": "code",
   "execution_count": 29,
   "metadata": {},
   "outputs": [
    {
     "data": {
      "text/plain": [
       "array([[0., 0., 0.]])"
      ]
     },
     "execution_count": 29,
     "metadata": {},
     "output_type": "execute_result"
    }
   ],
   "source": [
    "M3 = np.zeros((1,3))\n",
    "M3"
   ]
  },
  {
   "cell_type": "code",
   "execution_count": 30,
   "metadata": {},
   "outputs": [
    {
     "data": {
      "text/plain": [
       "array([[0., 0., 0.],\n",
       "       [0., 0., 0.]])"
      ]
     },
     "execution_count": 30,
     "metadata": {},
     "output_type": "execute_result"
    }
   ],
   "source": [
    "M4 = np.zeros((2, 3))\n",
    "M4"
   ]
  },
  {
   "cell_type": "code",
   "execution_count": 31,
   "metadata": {},
   "outputs": [
    {
     "data": {
      "text/plain": [
       "array([[1., 1., 1., 1.],\n",
       "       [1., 1., 1., 1.]])"
      ]
     },
     "execution_count": 31,
     "metadata": {},
     "output_type": "execute_result"
    }
   ],
   "source": [
    "M5 = np.ones((2,4))\n",
    "M5"
   ]
  },
  {
   "cell_type": "code",
   "execution_count": 32,
   "metadata": {},
   "outputs": [
    {
     "data": {
      "text/plain": [
       "array([[1., 0., 0.],\n",
       "       [0., 1., 0.],\n",
       "       [0., 0., 1.]])"
      ]
     },
     "execution_count": 32,
     "metadata": {},
     "output_type": "execute_result"
    }
   ],
   "source": [
    "Id = np.eye(3) \n",
    "Id"
   ]
  },
  {
   "cell_type": "markdown",
   "metadata": {},
   "source": [
    "Créer un tableau à partir de ses lignes :"
   ]
  },
  {
   "cell_type": "code",
   "execution_count": 33,
   "metadata": {},
   "outputs": [
    {
     "data": {
      "text/plain": [
       "array([[ 5,  1,  3],\n",
       "       [10,  4,  2],\n",
       "       [ 3,  5,  0]])"
      ]
     },
     "execution_count": 33,
     "metadata": {},
     "output_type": "execute_result"
    }
   ],
   "source": [
    "L1 = np.array([5, 1, 3])\n",
    "L2 = np.array([10, 4, 2])\n",
    "L3 = np.array([3, 5, 0])\n",
    "M6 = np.concatenate(([L1], [L2], [L3]))\n",
    "M6"
   ]
  },
  {
   "cell_type": "markdown",
   "metadata": {},
   "source": [
    "Redimensionner une matrice :\n",
    "\n",
    "    - le nombre d'élements est le même avant et après\n",
    "    - le parcours ligne par ligne donne la même suite d'éléments"
   ]
  },
  {
   "cell_type": "code",
   "execution_count": 34,
   "metadata": {},
   "outputs": [
    {
     "data": {
      "text/plain": [
       "array([[ 5,  1,  3],\n",
       "       [10,  4,  2]])"
      ]
     },
     "execution_count": 34,
     "metadata": {},
     "output_type": "execute_result"
    }
   ],
   "source": [
    "L1 = np.array([5, 1, 3])\n",
    "L2 = np.array([10, 4, 2])\n",
    "M7 = np.concatenate(([L1], [L2]))\n",
    "M7"
   ]
  },
  {
   "cell_type": "code",
   "execution_count": 35,
   "metadata": {},
   "outputs": [
    {
     "data": {
      "text/plain": [
       "array([[ 5,  1],\n",
       "       [ 3, 10],\n",
       "       [ 4,  2]])"
      ]
     },
     "execution_count": 35,
     "metadata": {},
     "output_type": "execute_result"
    }
   ],
   "source": [
    "M8 = np.reshape(M7, (3, 2))\n",
    "M8"
   ]
  },
  {
   "cell_type": "markdown",
   "metadata": {},
   "source": [
    "##### Opérations sur les matrices "
   ]
  },
  {
   "cell_type": "markdown",
   "metadata": {},
   "source": [
    "Produit scalaire de deux vecteurs :"
   ]
  },
  {
   "cell_type": "code",
   "execution_count": 36,
   "metadata": {},
   "outputs": [
    {
     "data": {
      "text/plain": [
       "14"
      ]
     },
     "execution_count": 36,
     "metadata": {},
     "output_type": "execute_result"
    }
   ],
   "source": [
    "L1 = np.array([1, 2, 3])\n",
    "L2 = np.array([1, 2, 3])\n",
    "prod = np.dot(L1, L2)\n",
    "prod"
   ]
  },
  {
   "cell_type": "markdown",
   "metadata": {},
   "source": [
    "Soit <code>M</code> la matrice définie comme suit :"
   ]
  },
  {
   "cell_type": "code",
   "execution_count": 37,
   "metadata": {},
   "outputs": [
    {
     "data": {
      "text/plain": [
       "array([[ 0.  ,  1.25,  2.5 ,  3.75,  5.  ,  6.25,  7.5 ,  8.75, 10.  ],\n",
       "       [ 0.  ,  1.25,  2.5 ,  3.75,  5.  ,  6.25,  7.5 ,  8.75, 10.  ],\n",
       "       [ 0.  ,  1.25,  2.5 ,  3.75,  5.  ,  6.25,  7.5 ,  8.75, 10.  ]])"
      ]
     },
     "execution_count": 37,
     "metadata": {},
     "output_type": "execute_result"
    }
   ],
   "source": [
    "L = np.linspace(0, 10, 9)\n",
    "M = np.array([L, L, L])\n",
    "M"
   ]
  },
  {
   "cell_type": "markdown",
   "metadata": {},
   "source": [
    "Somme de deux matrices :"
   ]
  },
  {
   "cell_type": "code",
   "execution_count": 38,
   "metadata": {},
   "outputs": [
    {
     "data": {
      "text/plain": [
       "array([[ 0. ,  2.5,  5. ,  7.5, 10. , 12.5, 15. , 17.5, 20. ],\n",
       "       [ 0. ,  2.5,  5. ,  7.5, 10. , 12.5, 15. , 17.5, 20. ],\n",
       "       [ 0. ,  2.5,  5. ,  7.5, 10. , 12.5, 15. , 17.5, 20. ]])"
      ]
     },
     "execution_count": 38,
     "metadata": {},
     "output_type": "execute_result"
    }
   ],
   "source": [
    "M + M"
   ]
  },
  {
   "cell_type": "markdown",
   "metadata": {},
   "source": [
    "Produit élément par élément de deux matrices :"
   ]
  },
  {
   "cell_type": "code",
   "execution_count": 39,
   "metadata": {},
   "outputs": [
    {
     "data": {
      "text/plain": [
       "array([[  0.    ,   1.5625,   6.25  ,  14.0625,  25.    ,  39.0625,\n",
       "         56.25  ,  76.5625, 100.    ],\n",
       "       [  0.    ,   1.5625,   6.25  ,  14.0625,  25.    ,  39.0625,\n",
       "         56.25  ,  76.5625, 100.    ],\n",
       "       [  0.    ,   1.5625,   6.25  ,  14.0625,  25.    ,  39.0625,\n",
       "         56.25  ,  76.5625, 100.    ]])"
      ]
     },
     "execution_count": 39,
     "metadata": {},
     "output_type": "execute_result"
    }
   ],
   "source": [
    "M * M"
   ]
  },
  {
   "cell_type": "markdown",
   "metadata": {},
   "source": [
    "Produit de deux matrices (compatibles) :"
   ]
  },
  {
   "cell_type": "code",
   "execution_count": 40,
   "metadata": {},
   "outputs": [
    {
     "ename": "ValueError",
     "evalue": "matmul: Input operand 1 has a mismatch in its core dimension 0, with gufunc signature (n?,k),(k,m?)->(n?,m?) (size 3 is different from 9)",
     "output_type": "error",
     "traceback": [
      "\u001b[0;31m---------------------------------------------------------------------------\u001b[0m",
      "\u001b[0;31mValueError\u001b[0m                                Traceback (most recent call last)",
      "Cell \u001b[0;32mIn [40], line 1\u001b[0m\n\u001b[0;32m----> 1\u001b[0m \u001b[43mnp\u001b[49m\u001b[38;5;241;43m.\u001b[39;49m\u001b[43mmatmul\u001b[49m\u001b[43m(\u001b[49m\u001b[43mM\u001b[49m\u001b[43m,\u001b[49m\u001b[43m \u001b[49m\u001b[43mM\u001b[49m\u001b[43m)\u001b[49m \u001b[38;5;66;03m#erreur : pourquoi ?\u001b[39;00m\n",
      "\u001b[0;31mValueError\u001b[0m: matmul: Input operand 1 has a mismatch in its core dimension 0, with gufunc signature (n?,k),(k,m?)->(n?,m?) (size 3 is different from 9)"
     ]
    }
   ],
   "source": [
    "np.matmul(M, M) #erreur : pourquoi ? Parce que pour multiplier 2 matrices rectangulaires il faut\n",
    "# qu'elles soient sous la forme _ | sinon ça ne marche pas (d'où le M.T (transposition) )"
   ]
  },
  {
   "cell_type": "code",
   "execution_count": 41,
   "metadata": {},
   "outputs": [
    {
     "data": {
      "text/plain": [
       "array([[318.75, 318.75, 318.75],\n",
       "       [318.75, 318.75, 318.75],\n",
       "       [318.75, 318.75, 318.75]])"
      ]
     },
     "execution_count": 41,
     "metadata": {},
     "output_type": "execute_result"
    }
   ],
   "source": [
    "np.matmul(M, M.T)"
   ]
  },
  {
   "cell_type": "markdown",
   "metadata": {},
   "source": [
    "A présent, nous allons illustrer la puissance de la bibliothèque <code>numpy</code>. Pour cela nous allons d'abord définir notre propre fonction <code>prod_matrices</code> calculant le produit en utilisant des boucles imbriquées : "
   ]
  },
  {
   "cell_type": "code",
   "execution_count": 46,
   "metadata": {},
   "outputs": [],
   "source": [
    "def prod_matrices(M1, M2):\n",
    "    M = np.zeros((M1.shape[0], M2.shape[1]))\n",
    "    for i in range(M1.shape[0]):\n",
    "        for j in range(M2.shape[1]):\n",
    "            for k in range(M1.shape[1]):\n",
    "                M[i, j] += M1[i, k] * M2[k,j] \n",
    "    return M"
   ]
  },
  {
   "cell_type": "markdown",
   "metadata": {},
   "source": [
    "Test de la fonction :"
   ]
  },
  {
   "cell_type": "code",
   "execution_count": 47,
   "metadata": {},
   "outputs": [
    {
     "data": {
      "text/plain": [
       "array([[13.,  9.],\n",
       "       [57., 41.]])"
      ]
     },
     "execution_count": 47,
     "metadata": {},
     "output_type": "execute_result"
    }
   ],
   "source": [
    "M1 = np.array([[2, 1, 1], [4, 5, 7]])\n",
    "M2 = np.array([[3, 2], [2, 1], [5, 4]])\n",
    "prod_matrices(M1, M2)"
   ]
  },
  {
   "cell_type": "markdown",
   "metadata": {},
   "source": [
    "Avec un peu plus d'éléments :"
   ]
  },
  {
   "cell_type": "code",
   "execution_count": 48,
   "metadata": {},
   "outputs": [],
   "source": [
    "L = np.linspace(0, 1000, 1000)\n",
    "M = np.array([L, L, L])"
   ]
  },
  {
   "cell_type": "code",
   "execution_count": 49,
   "metadata": {},
   "outputs": [
    {
     "data": {
      "text/plain": [
       "array([[3.33500167e+08, 3.33500167e+08, 3.33500167e+08],\n",
       "       [3.33500167e+08, 3.33500167e+08, 3.33500167e+08],\n",
       "       [3.33500167e+08, 3.33500167e+08, 3.33500167e+08]])"
      ]
     },
     "execution_count": 49,
     "metadata": {},
     "output_type": "execute_result"
    }
   ],
   "source": [
    "P = prod_matrices(M, M.T)\n",
    "P"
   ]
  },
  {
   "cell_type": "markdown",
   "metadata": {},
   "source": [
    "La fonction <code>time</code> permet d'afficher des statistiques sur le temps d'exécution d'une instruction <code>Python</code>. Exécutez les instructions suivantes et observez les résultats :"
   ]
  },
  {
   "cell_type": "code",
   "execution_count": 50,
   "metadata": {},
   "outputs": [
    {
     "name": "stdout",
     "output_type": "stream",
     "text": [
      "CPU times: user 5.15 ms, sys: 0 ns, total: 5.15 ms\n",
      "Wall time: 5.12 ms\n"
     ]
    }
   ],
   "source": [
    "%time P = prod_matrices(M, M.T) "
   ]
  },
  {
   "cell_type": "code",
   "execution_count": 51,
   "metadata": {},
   "outputs": [
    {
     "name": "stdout",
     "output_type": "stream",
     "text": [
      "CPU times: user 49 µs, sys: 43 µs, total: 92 µs\n",
      "Wall time: 100 µs\n"
     ]
    }
   ],
   "source": [
    "%time P= np.matmul(M, M.T)"
   ]
  },
  {
   "cell_type": "markdown",
   "metadata": {},
   "source": [
    "La différence est encore plus flagrante si on utilise des matrices creuses : "
   ]
  },
  {
   "cell_type": "code",
   "execution_count": 52,
   "metadata": {},
   "outputs": [],
   "source": [
    "L1 = np.linspace(0, 1000, 1000)\n",
    "L2 = np.zeros(1000)\n",
    "M = np.array([L2, L2, L1])"
   ]
  },
  {
   "cell_type": "code",
   "execution_count": 53,
   "metadata": {},
   "outputs": [
    {
     "name": "stdout",
     "output_type": "stream",
     "text": [
      "CPU times: user 6.44 ms, sys: 0 ns, total: 6.44 ms\n",
      "Wall time: 6.38 ms\n"
     ]
    }
   ],
   "source": [
    "%time P = prod_matrices(M, M.T) "
   ]
  },
  {
   "cell_type": "code",
   "execution_count": 54,
   "metadata": {},
   "outputs": [
    {
     "name": "stdout",
     "output_type": "stream",
     "text": [
      "CPU times: user 47 µs, sys: 42 µs, total: 89 µs\n",
      "Wall time: 97 µs\n"
     ]
    }
   ],
   "source": [
    "%time P= np.matmul(M, M.T)"
   ]
  },
  {
   "cell_type": "markdown",
   "metadata": {},
   "source": [
    "### Exercice 2.\n",
    "\n",
    "Chercher des éléments dans un tableau"
   ]
  },
  {
   "cell_type": "markdown",
   "metadata": {},
   "source": [
    "1. A tester : "
   ]
  },
  {
   "cell_type": "code",
   "execution_count": 55,
   "metadata": {},
   "outputs": [],
   "source": [
    "from random import sample, choices"
   ]
  },
  {
   "cell_type": "code",
   "execution_count": 56,
   "metadata": {},
   "outputs": [
    {
     "data": {
      "text/plain": [
       "array([14, 13,  6,  6,  2,  3, 16, 21, 11, 17,  2, 10, 12, 21,  9, 24,  2,\n",
       "       17,  2,  6, 13,  4, 11, 13, 24, 14, 15, 22, 11, 18, 16,  4,  3,  2,\n",
       "        5,  8, 11,  6, 19, 10, 11,  5, 15,  2,  9, 14, 17, 12,  3, 14,  3,\n",
       "       22,  5,  6, 14, 13,  7,  7, 15, 17, 17, 23, 16, 24, 16,  1,  9,  1,\n",
       "       19,  6, 12, 15,  6, 18,  3,  7, 21, 22,  4, 10, 16,  8,  8, 15, 17,\n",
       "       23, 20, 24,  8,  2,  4,  5,  2, 23,  3,  5,  8, 23, 11,  5,  8,  7,\n",
       "       14, 18, 16, 10, 15, 16,  5,  5, 14, 11, 24, 10,  3,  5, 24, 11, 24,\n",
       "       21,  1, 21, 17, 15,  2, 14,  1,  4, 21,  7, 21, 24, 15, 16, 21,  1,\n",
       "       21, 19, 13, 11, 12,  4,  5, 15, 13, 18, 23,  1,  3, 18, 10, 17,  8,\n",
       "       23, 16, 19, 10, 22,  6,  6, 18,  9, 16, 15,  8,  3, 23, 19, 15, 20,\n",
       "       22, 23, 16,  8, 23, 24, 21, 24, 23, 19, 17,  4,  8, 11,  6,  1, 15,\n",
       "        1, 17,  1,  8,  7,  7,  6, 24, 22,  7,  4, 21,  6])"
      ]
     },
     "execution_count": 56,
     "metadata": {},
     "output_type": "execute_result"
    }
   ],
   "source": [
    "V1 = np.reshape(choices(range(1, 25), k=200), (200, ))\n",
    "V1"
   ]
  },
  {
   "cell_type": "code",
   "execution_count": 57,
   "metadata": {},
   "outputs": [
    {
     "data": {
      "text/plain": [
       "array([21, 21, 24, 24, 22, 22, 23, 24, 21, 22, 23, 24, 23, 23, 24, 24, 24,\n",
       "       21, 21, 21, 21, 24, 21, 21, 23, 23, 22, 23, 22, 23, 23, 24, 21, 24,\n",
       "       23, 24, 22, 21])"
      ]
     },
     "execution_count": 57,
     "metadata": {},
     "output_type": "execute_result"
    }
   ],
   "source": [
    "V2 = V1[V1>20]\n",
    "V2"
   ]
  },
  {
   "cell_type": "markdown",
   "metadata": {},
   "source": [
    "2. Créer deux vecteurs ligne d’entiers <code>Va</code> et <code>Vb</code>, de même taille, contenant des valeurs entières aléatoires."
   ]
  },
  {
   "cell_type": "code",
   "execution_count": null,
   "metadata": {},
   "outputs": [],
   "source": []
  },
  {
   "cell_type": "markdown",
   "metadata": {},
   "source": [
    "3. Tester le code suivant. Que contient <code>V</code>?"
   ]
  },
  {
   "cell_type": "code",
   "execution_count": null,
   "metadata": {},
   "outputs": [],
   "source": [
    "V = np.array([Va[i] if Va[i] > Vb[i] else Vb[i] for i in range(Va.shape[0])])\n",
    "V"
   ]
  },
  {
   "cell_type": "markdown",
   "metadata": {},
   "source": [
    "4. Quelle est la fonction de <code>numpy</code> qui permet d'obtenir le même résultat? Tester."
   ]
  },
  {
   "cell_type": "code",
   "execution_count": null,
   "metadata": {},
   "outputs": [],
   "source": []
  },
  {
   "cell_type": "markdown",
   "metadata": {},
   "source": [
    "# 2. Probabilités et statistiques, lois usuelles\n",
    "\n",
    "Dans cette section, nous allons passer en revue quelques éléments de probabilités et statistiques. Nous allons essentiellement faire de l'inférence statistique et manipuler la loi normale."
   ]
  },
  {
   "cell_type": "markdown",
   "metadata": {},
   "source": [
    "#### Loi des grands nombres\n",
    "\n",
    "On lance une pièce biaisée. On obtient pile avec probabilité $p\\in[0, 1]$ et face avec probabilité $q = 1 - p$.\n",
    "\n",
    "Ecrire une fonction <code>lancer(n, p)</code> qui simule le lancer de ce dé <code>n</code> fois avec la probabilité <code>p</code> d'obtenir pile et qui retourne le nombre de fois où pile est obtenu.\n",
    "\n",
    "<em>Indication :</em> <code>uniform(0,1)</code> de la bibliothèque <code>random</code> retourne un nombre réel aléatoire tiré uniformément dans l'intervalle $[0, 1]$. "
   ]
  },
  {
   "cell_type": "code",
   "execution_count": null,
   "metadata": {},
   "outputs": [],
   "source": []
  },
  {
   "cell_type": "markdown",
   "metadata": {},
   "source": [
    "Essayer avec différentes valeurs $p$ et des valeurs de $n$ croissantes. Qu'observez-vous ?"
   ]
  },
  {
   "cell_type": "code",
   "execution_count": null,
   "metadata": {},
   "outputs": [],
   "source": []
  },
  {
   "cell_type": "markdown",
   "metadata": {},
   "source": [
    "#### Loi normale\n",
    "\n",
    "La loi normale est très utilisée en statistiques. Elle est, entre autre, la loi limite pour d'autres lois. \n",
    "\n",
    "Commençons par générer des nombres suivant une loi normale mais avec différentes valeurs pour les paramètres $\\mu$ et $\\sigma$.\n",
    "\n",
    "Exécutez la cellule suivante et observez le résultat : "
   ]
  },
  {
   "cell_type": "code",
   "execution_count": null,
   "metadata": {},
   "outputs": [],
   "source": [
    "from scipy.stats import norm\n",
    "import matplotlib.pyplot as plt\n",
    "%matplotlib inline\n",
    "\n",
    "mu = [0, 1, 2, 3]\n",
    "sigma = [1, 2, 3, 4]\n",
    "\n",
    "x_min = -16\n",
    "x_max = 16\n",
    "x_nb = 100\n",
    "\n",
    "x = np.linspace(x_min, x_max, x_nb)\n",
    "\n",
    "for i in range(len(mu)):\n",
    "    y = norm.pdf(x, mu[i], sigma[i])\n",
    "    plt.plot(x, y, label='mu='+str(mu[i])+', sigma='+str(sigma[i]))\n",
    "plt.legend(loc='upper right')\n",
    "plt.show()"
   ]
  },
  {
   "cell_type": "markdown",
   "metadata": {},
   "source": [
    "Commentez les courbes et observez l'impact des valeurs de $\\sigma$."
   ]
  },
  {
   "cell_type": "markdown",
   "metadata": {},
   "source": [
    "#### Inférence des paramètres d'une loi normale\n",
    "\n",
    "On insère une bannière publicitaire dans une page web. On trace les connexions à cette page auprès de $50$ utilisateurs et ce pendant $1000$ jours. Pour chaque visite on note si l'utilisateur a cliqué sur la bannière ou non. \n",
    "\n",
    "Les chiffres des clics (par jour) sont donnés dans le fichier <code>baniere.csv</code> disponible à l'adresse https://www.labri.fr/perso/zemmari/datasets/baniere.csv."
   ]
  },
  {
   "cell_type": "markdown",
   "metadata": {},
   "source": [
    "1. Charger les données dans une variable de nom <code>data</code> en utilisant la fonction <code>read_csv</code> de la bibliothèque <code>pandas</code> (elle accepte les urls)."
   ]
  },
  {
   "cell_type": "code",
   "execution_count": null,
   "metadata": {},
   "outputs": [],
   "source": []
  },
  {
   "cell_type": "markdown",
   "metadata": {},
   "source": [
    "2. Donner une estimation de la probabilité qu'un visiteur du site (choisi au hasard) clique sur la bannière. "
   ]
  },
  {
   "cell_type": "code",
   "execution_count": null,
   "metadata": {},
   "outputs": [],
   "source": []
  },
  {
   "cell_type": "markdown",
   "metadata": {},
   "source": [
    "3. Le code suivant permet de tracer l'histogramme des données comme une courbe. Qu'observez-vous pour la forme de la courbe ? "
   ]
  },
  {
   "cell_type": "code",
   "execution_count": null,
   "metadata": {},
   "outputs": [],
   "source": [
    "from collections import Counter\n",
    "\n",
    "compteur = Counter(list(data[0]))\n",
    "#print(compteur)\n",
    "\n",
    "x = list(compteur.keys())\n",
    "print(x)\n",
    "y = [compteur[val] for val in x]\n",
    "print(y)\n",
    "plt.scatter(x, y, c='red', marker='+')"
   ]
  },
  {
   "cell_type": "markdown",
   "metadata": {},
   "source": [
    "4. Calculez l'estimateur $\\hat\\mu$ de la moyenne et $\\hat\\sigma$ de la variance. \n",
    "\n",
    "<em>Indication :</em> des estimateurs non biaisés de la moyenne et de la variance d'une série $(x_i)_{1\\leq i\\leq n}$ sont donnés par :\n",
    "$$\n",
    "\\hat\\mu = \\frac 1 n \\sum_{i=1}^n x_i, \\,\\,\\,\\, \\hat\\sigma^2 = \\frac 1 {n} \\sum_{i=1}^n \\left(x_i - \\hat\\mu\\right)^2.\n",
    "$$\n",
    "On peut néanmoins utiliser directement les fonctions <code>average</code> et <code>std</code> de la bibliothèque <code>numpy</code>."
   ]
  },
  {
   "cell_type": "code",
   "execution_count": null,
   "metadata": {},
   "outputs": [],
   "source": []
  },
  {
   "cell_type": "markdown",
   "metadata": {},
   "source": [
    "5. Dessinez la courbe de la fonction de répartition de la loi normale de paramètres $\\hat\\mu$ et $\\hat\\sigma$ sur la même figure que celle de la question 4. Qu'observez vous ?"
   ]
  },
  {
   "cell_type": "code",
   "execution_count": null,
   "metadata": {},
   "outputs": [],
   "source": []
  }
 ],
 "metadata": {
  "kernelspec": {
   "display_name": "Python 3 (ipykernel)",
   "language": "python",
   "name": "python3"
  },
  "language_info": {
   "codemirror_mode": {
    "name": "ipython",
    "version": 3
   },
   "file_extension": ".py",
   "mimetype": "text/x-python",
   "name": "python",
   "nbconvert_exporter": "python",
   "pygments_lexer": "ipython3",
   "version": "3.11.2"
  }
 },
 "nbformat": 4,
 "nbformat_minor": 4
}
