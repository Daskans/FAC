{
    "cells": [
        {
            "cell_type": "code",
            "execution_count": null,
            "metadata": {},
            "outputs": [],
            "source": []
        },
        {
            "cell_type": "markdown",
            "metadata": {},
            "source": [
                "#### Université de Bordeaux,  Master Mention Informatique\n",
                "\n",
                "# Analyse, classification et indexation des données: feuille 5\n",
                "\n",
                "# Machine Learning\n",
                "\n",
                "#### k-Nearest Neighbors \n"
            ]
        },
        {
            "cell_type": "markdown",
            "metadata": {},
            "source": [
                "\n",
                "## Exercice 1.  k-Nearest Neighbors (from scratch)\n",
                "\n",
                "Dans ce premier exercice, nous allons coder un algorithme de classification : le $k$-nn."
            ]
        },
        {
            "cell_type": "markdown",
            "metadata": {},
            "source": [
                "On commence par importer les modules python :\n",
                "\n",
                "- numpy : pour des calculs (algèbre linéaire, etc)\n",
                "- pandas : pour la lecture des fichiers csv, etc "
            ]
        },
        {
            "cell_type": "code",
            "execution_count": 3,
            "metadata": {},
            "outputs": [],
            "source": [
                "import numpy as np\n",
                "import pandas as pa\n",
                "\n",
                "import warnings\n",
                "warnings.filterwarnings(\"ignore\")"
            ]
        },
        {
            "cell_type": "markdown",
            "metadata": {},
            "source": [
                "#### Etape 1 : Distance euclidienne"
            ]
        },
        {
            "cell_type": "markdown",
            "metadata": {},
            "source": [
                "1. Ecrire une fonction pour calculer la distance euclidienne entre deux points (représentés par des np.array). Attention, le tableau donné comme deuxième paramètre de la fonction contient, en dernière position, la classe de l'élément qu'il représente. Cette information n'est pas utilisée pour le calcul de distance."
            ]
        },
        {
            "cell_type": "code",
            "execution_count": 4,
            "metadata": {},
            "outputs": [],
            "source": [
                "def euclidean (point1, point2):\n",
                "    point2_clean = point2[:-1]\n",
                "    dist = np.sqrt(np.sum((point1 - point2_clean) ** 2))\n",
                "    return dist"
            ]
        },
        {
            "cell_type": "markdown",
            "metadata": {},
            "source": [
                "Tester votre fonction. Les instructions suivantes devront produire le résultat ci-dessous."
            ]
        },
        {
            "cell_type": "code",
            "execution_count": 5,
            "metadata": {},
            "outputs": [
                {
                    "name": "stdout",
                    "output_type": "stream",
                    "text": [
                        "0.0\n",
                        "1.7320508075688772\n"
                    ]
                }
            ],
            "source": [
                "u = np.array([1, 2, 3])\n",
                "v = np.array([1, 2, 3, 1])\n",
                "w = np.array([2, 3, 4, 0])\n",
                "print(euclidean(u, v)) # 0.0\n",
                "print(euclidean(u, w)) # 1.7320508075688772"
            ]
        },
        {
            "cell_type": "markdown",
            "metadata": {},
            "source": [
                "2. Ecrire une fonction pour calculer les distances d'un point à tous les autres points d'un dataset (matrice numpy - voir exemple)"
            ]
        },
        {
            "cell_type": "code",
            "execution_count": 6,
            "metadata": {},
            "outputs": [],
            "source": [
                "def distances (point, dataset):\n",
                "    dist = []\n",
                "    for p in dataset:\n",
                "        dist.append(euclidean(point, p))\n",
                "    return dist\n"
            ]
        },
        {
            "cell_type": "markdown",
            "metadata": {},
            "source": [
                "Tester votre fonction. Les instructions suivantes devront produire le résultat ci-dessous."
            ]
        },
        {
            "cell_type": "code",
            "execution_count": 7,
            "metadata": {},
            "outputs": [
                {
                    "name": "stdout",
                    "output_type": "stream",
                    "text": [
                        "[np.float64(0.0), np.float64(5.196152422706632), np.float64(1.7320508075688772), np.float64(3.4641016151377544)]\n"
                    ]
                }
            ],
            "source": [
                "u = np.array([1, 2, 3])\n",
                "dataset = np.array([[1, 2, 3, 0],\n",
                "                    [4, 5, 6, 0],\n",
                "                    [2, 3, 4, 1],\n",
                "                    [3, 4, 5, 1]])\n",
                "dist = distances(u, dataset)\n",
                "print(dist) # [0.0, 5.196152422706632, 1.7320508075688772, 3.4641016151377544]"
            ]
        },
        {
            "cell_type": "markdown",
            "metadata": {},
            "source": [
                "#### Etape 2 : Récupérer la liste des $k$ voisins les plus proches"
            ]
        },
        {
            "cell_type": "markdown",
            "metadata": {},
            "source": [
                "1. Ecrire une fonction <code>voisins</code> permettant de récupérer dans un dataset la liste des $k$-voisins les plus proches d'un point donné."
            ]
        },
        {
            "cell_type": "code",
            "execution_count": 11,
            "metadata": {},
            "outputs": [],
            "source": [
                "def voisins (point, dataset, nb_neighbors):\n",
                "    dist = []\n",
                "    for p in dataset:\n",
                "        dist.append((p, euclidean(point, p)))\n",
                "    dist.sort(key=lambda tup: tup[1])\n",
                "    knn = [dist[k][0] for k in range (nb_neighbors)]\n",
                "    return knn"
            ]
        },
        {
            "cell_type": "markdown",
            "metadata": {},
            "source": [
                "Tester votre fonction. Les instructions suivantes devront produire le résultat ci-dessous. "
            ]
        },
        {
            "cell_type": "code",
            "execution_count": 12,
            "metadata": {},
            "outputs": [
                {
                    "name": "stdout",
                    "output_type": "stream",
                    "text": [
                        "[array([1, 2, 3, 0]), array([2, 3, 4, 1])]\n"
                    ]
                }
            ],
            "source": [
                "u = np.array([1, 2, 3])\n",
                "dataset = np.array([[1, 2, 3, 0],\n",
                "                    [4, 5, 6, 0],\n",
                "                    [2, 3, 4, 1],\n",
                "                    [3, 4, 5, 1]])\n",
                "\n",
                "print(voisins(u, dataset, 2)) # [array([1, 2, 3, 0]), array([2, 3, 4, 1])]"
            ]
        },
        {
            "cell_type": "markdown",
            "metadata": {},
            "source": [
                "#### Etape 3 : Faire des prédictions"
            ]
        },
        {
            "cell_type": "markdown",
            "metadata": {},
            "source": [
                "1. Ecrire une fonction <code>classifier()</code> retournant la classe d'un élément $u$."
            ]
        },
        {
            "cell_type": "code",
            "execution_count": 14,
            "metadata": {},
            "outputs": [],
            "source": [
                "def classifier(point, dataset, nb_neighbors):\n",
                "    knn = voisins(point, dataset, nb_neighbors)\n",
                "    sum_class = 0\n",
                "    for p in knn:\n",
                "        if p[-1] == 0:\n",
                "            sum_class-=1\n",
                "        else:\n",
                "            sum_class+=1\n",
                "    if sum_class < 0:\n",
                "        return 0\n",
                "    else:\n",
                "        return 1"
            ]
        },
        {
            "cell_type": "markdown",
            "metadata": {},
            "source": [
                "Tester votre fonction. Les instructions suivantes devront produire le résultat ci-dessous. "
            ]
        },
        {
            "cell_type": "code",
            "execution_count": 15,
            "metadata": {},
            "outputs": [
                {
                    "name": "stdout",
                    "output_type": "stream",
                    "text": [
                        "1\n"
                    ]
                }
            ],
            "source": [
                "u = np.array([4, 5, 6])\n",
                "dataset = np.array([[1, 2, 3, 0],\n",
                "                   [2, 3, 4, 1],\n",
                "                   [3, 4, 5, 0],\n",
                "                   [4, 5, 6, 1],\n",
                "                   [1, 2, 3, 0]])\n",
                "\n",
                "print(classifier(u, dataset, 3)) # 1"
            ]
        },
        {
            "cell_type": "markdown",
            "metadata": {},
            "source": [
                "### Exercice 2. Application"
            ]
        },
        {
            "cell_type": "markdown",
            "metadata": {},
            "source": [
                "Dans cet exercice, nous allons appliquer l'algorithme écrit ci-dessus pour classifier des iris.\n",
                "Pour cela, nous commençons par charger le dataset : "
            ]
        },
        {
            "cell_type": "code",
            "execution_count": 18,
            "metadata": {},
            "outputs": [
                {
                    "name": "stdout",
                    "output_type": "stream",
                    "text": [
                        ".. _iris_dataset:\n",
                        "\n",
                        "Iris plants dataset\n",
                        "--------------------\n",
                        "\n",
                        "**Data Set Characteristics:**\n",
                        "\n",
                        ":Number of Instances: 150 (50 in each of three classes)\n",
                        ":Number of Attributes: 4 numeric, predictive attributes and the class\n",
                        ":Attribute Information:\n",
                        "    - sepal length in cm\n",
                        "    - sepal width in cm\n",
                        "    - petal length in cm\n",
                        "    - petal width in cm\n",
                        "    - class:\n",
                        "            - Iris-Setosa\n",
                        "            - Iris-Versicolour\n",
                        "            - Iris-Virginica\n",
                        "\n",
                        ":Summary Statistics:\n",
                        "\n",
                        "============== ==== ==== ======= ===== ====================\n",
                        "                Min  Max   Mean    SD   Class Correlation\n",
                        "============== ==== ==== ======= ===== ====================\n",
                        "sepal length:   4.3  7.9   5.84   0.83    0.7826\n",
                        "sepal width:    2.0  4.4   3.05   0.43   -0.4194\n",
                        "petal length:   1.0  6.9   3.76   1.76    0.9490  (high!)\n",
                        "petal width:    0.1  2.5   1.20   0.76    0.9565  (high!)\n",
                        "============== ==== ==== ======= ===== ====================\n",
                        "\n",
                        ":Missing Attribute Values: None\n",
                        ":Class Distribution: 33.3% for each of 3 classes.\n",
                        ":Creator: R.A. Fisher\n",
                        ":Donor: Michael Marshall (MARSHALL%PLU@io.arc.nasa.gov)\n",
                        ":Date: July, 1988\n",
                        "\n",
                        "The famous Iris database, first used by Sir R.A. Fisher. The dataset is taken\n",
                        "from Fisher's paper. Note that it's the same as in R, but not as in the UCI\n",
                        "Machine Learning Repository, which has two wrong data points.\n",
                        "\n",
                        "This is perhaps the best known database to be found in the\n",
                        "pattern recognition literature.  Fisher's paper is a classic in the field and\n",
                        "is referenced frequently to this day.  (See Duda & Hart, for example.)  The\n",
                        "data set contains 3 classes of 50 instances each, where each class refers to a\n",
                        "type of iris plant.  One class is linearly separable from the other 2; the\n",
                        "latter are NOT linearly separable from each other.\n",
                        "\n",
                        ".. dropdown:: References\n",
                        "\n",
                        "  - Fisher, R.A. \"The use of multiple measurements in taxonomic problems\"\n",
                        "    Annual Eugenics, 7, Part II, 179-188 (1936); also in \"Contributions to\n",
                        "    Mathematical Statistics\" (John Wiley, NY, 1950).\n",
                        "  - Duda, R.O., & Hart, P.E. (1973) Pattern Classification and Scene Analysis.\n",
                        "    (Q327.D83) John Wiley & Sons.  ISBN 0-471-22361-1.  See page 218.\n",
                        "  - Dasarathy, B.V. (1980) \"Nosing Around the Neighborhood: A New System\n",
                        "    Structure and Classification Rule for Recognition in Partially Exposed\n",
                        "    Environments\".  IEEE Transactions on Pattern Analysis and Machine\n",
                        "    Intelligence, Vol. PAMI-2, No. 1, 67-71.\n",
                        "  - Gates, G.W. (1972) \"The Reduced Nearest Neighbor Rule\".  IEEE Transactions\n",
                        "    on Information Theory, May 1972, 431-433.\n",
                        "  - See also: 1988 MLC Proceedings, 54-64.  Cheeseman et al\"s AUTOCLASS II\n",
                        "    conceptual clustering system finds 3 classes in the data.\n",
                        "  - Many, many more ...\n",
                        "\n"
                    ]
                }
            ],
            "source": [
                "from sklearn.datasets import load_iris\n",
                "iris = load_iris()\n",
                "print(iris.DESCR)"
            ]
        },
        {
            "cell_type": "markdown",
            "metadata": {},
            "source": [
                "Comme indiqué dans sa description, le dataset contient, pour chaque iris, la longueur et la largeur de sa sépale et la longueur et la largeur de sa pétale. Les iris sont ensuite classifiés soit en Iris-Setosa (0), soit en Iris-Versicolour (1) ou encore en Iris-Virginica (2) :\n",
                "                "
            ]
        },
        {
            "cell_type": "markdown",
            "metadata": {},
            "source": [
                "<b>Indication :</b> le dataset <code>iris</code> est composé de deux parties : \n",
                " - <code>iris.data</code> décrit les caractéristiques (features)\n",
                " - <code>iris.target</code> contient les classes"
            ]
        },
        {
            "cell_type": "code",
            "execution_count": 19,
            "metadata": {},
            "outputs": [
                {
                    "name": "stdout",
                    "output_type": "stream",
                    "text": [
                        "[0 0 0 0 0 0 0 0 0 0 0 0 0 0 0 0 0 0 0 0 0 0 0 0 0 0 0 0 0 0 0 0 0 0 0 0 0\n",
                        " 0 0 0 0 0 0 0 0 0 0 0 0 0 1 1 1 1 1 1 1 1 1 1 1 1 1 1 1 1 1 1 1 1 1 1 1 1\n",
                        " 1 1 1 1 1 1 1 1 1 1 1 1 1 1 1 1 1 1 1 1 1 1 1 1 1 1 2 2 2 2 2 2 2 2 2 2 2\n",
                        " 2 2 2 2 2 2 2 2 2 2 2 2 2 2 2 2 2 2 2 2 2 2 2 2 2 2 2 2 2 2 2 2 2 2 2 2 2\n",
                        " 2 2]\n"
                    ]
                }
            ],
            "source": [
                "print(iris.target)"
            ]
        },
        {
            "cell_type": "code",
            "execution_count": 20,
            "metadata": {},
            "outputs": [
                {
                    "name": "stdout",
                    "output_type": "stream",
                    "text": [
                        "(150, 4)\n"
                    ]
                }
            ],
            "source": [
                "print(iris.data.shape)"
            ]
        },
        {
            "cell_type": "code",
            "execution_count": 21,
            "metadata": {},
            "outputs": [
                {
                    "name": "stdout",
                    "output_type": "stream",
                    "text": [
                        "(150,)\n"
                    ]
                }
            ],
            "source": [
                "print(iris.target.shape)"
            ]
        },
        {
            "cell_type": "markdown",
            "metadata": {},
            "source": [
                "Pour des raisons pédagogiques, et pour se focaliser sur l'algorithme, nous avons choisi de l'implémenter pour faire de la classification binaire (c'est ce que réalisent les étapes de l'exercice 1). "
            ]
        },
        {
            "cell_type": "markdown",
            "metadata": {},
            "source": [
                "1. Ecrire l'instruction permettant de transformer le problème en un problème de classification binaire :  tous les Iris-Virginica (2) seront classés en Iris-Versicolour (1)."
            ]
        },
        {
            "cell_type": "code",
            "execution_count": 22,
            "metadata": {},
            "outputs": [],
            "source": [
                "for i in range(iris.target.shape[0]):\n",
                "    if iris.target[i] == 2:\n",
                "        iris.target[i] = 1"
            ]
        },
        {
            "cell_type": "code",
            "execution_count": 23,
            "metadata": {},
            "outputs": [
                {
                    "name": "stdout",
                    "output_type": "stream",
                    "text": [
                        "[0 0 0 0 0 0 0 0 0 0 0 0 0 0 0 0 0 0 0 0 0 0 0 0 0 0 0 0 0 0 0 0 0 0 0 0 0\n",
                        " 0 0 0 0 0 0 0 0 0 0 0 0 0 1 1 1 1 1 1 1 1 1 1 1 1 1 1 1 1 1 1 1 1 1 1 1 1\n",
                        " 1 1 1 1 1 1 1 1 1 1 1 1 1 1 1 1 1 1 1 1 1 1 1 1 1 1 1 1 1 1 1 1 1 1 1 1 1\n",
                        " 1 1 1 1 1 1 1 1 1 1 1 1 1 1 1 1 1 1 1 1 1 1 1 1 1 1 1 1 1 1 1 1 1 1 1 1 1\n",
                        " 1 1]\n",
                        "(150,)\n"
                    ]
                }
            ],
            "source": [
                "print(iris.target)\n",
                "print(iris.target.shape)"
            ]
        },
        {
            "cell_type": "markdown",
            "metadata": {},
            "source": [
                "2. Afin d'utiliser l'algorithme que vous avez implémenté dans l'exercice 1, créer un tableau <code>dataset</code> dont le contenu sera des iris avec leur classes. Pour pouvoir visualiser le dataset, nous n'allons garder que les deux premières colonnes."
            ]
        },
        {
            "cell_type": "code",
            "execution_count": 39,
            "metadata": {},
            "outputs": [],
            "source": [
                "dataset = np.array([[iris.data[k][0], iris.data[k][1], iris.target[k]] for k in range(iris.target.shape[0])])\n"
            ]
        },
        {
            "cell_type": "markdown",
            "metadata": {},
            "source": [
                "3. Visualiser le dataset"
            ]
        },
        {
            "cell_type": "code",
            "execution_count": 51,
            "metadata": {},
            "outputs": [
                {
                    "data": {
                        "image/png": "[encoded data removed]",
                        "text/plain": [
                            "<Figure size 640x480 with 1 Axes>"
                        ]
                    },
                    "metadata": {},
                    "output_type": "display_data"
                }
            ],
            "source": [
                "import matplotlib.pyplot as plt\n",
                "plt.scatter(dataset[:, 0], dataset[:, 1], c=dataset[:, 2], cmap='bwr', edgecolors='k')\n",
                "plt.show()"
            ]
        },
        {
            "cell_type": "markdown",
            "metadata": {},
            "source": [
                "4. Soit le vecteur $u(6.5, 2.5)$, utilisez votre algorithme avec $k=3$ pour classer $u$."
            ]
        },
        {
            "cell_type": "code",
            "execution_count": 52,
            "metadata": {},
            "outputs": [
                {
                    "name": "stdout",
                    "output_type": "stream",
                    "text": [
                        "1\n"
                    ]
                }
            ],
            "source": [
                "u = np.array([6.5, 2.5])\n",
                "print(classifier(u, dataset, 3))"
            ]
        },
        {
            "cell_type": "markdown",
            "metadata": {},
            "source": [
                "5. Afficher le nouveau point sur le graphique et vérifier visuellement votre résultat."
            ]
        },
        {
            "cell_type": "code",
            "execution_count": null,
            "metadata": {},
            "outputs": [],
            "source": []
        },
        {
            "cell_type": "markdown",
            "metadata": {},
            "source": [
                "### Exercice 3 : $k$-nn avec <code>sklearn</code>"
            ]
        },
        {
            "cell_type": "markdown",
            "metadata": {},
            "source": [
                "Dans cet exercice, nous allons utiliser le classifieur $k$−nn pour apprendre à reconnaître des fruits. Pour cela, nous allons utiliser le dataset fruits disponible au format csv à l’adresse :\n",
                "               \n",
                "               https://www.labri.fr/~zemmari/datasets/fruits.csv"
            ]
        },
        {
            "cell_type": "markdown",
            "metadata": {},
            "source": [
                "1. Charger les données, puis afficher les informations pour vérifier si le dataset ne contient pas de données manquantes."
            ]
        },
        {
            "cell_type": "code",
            "execution_count": null,
            "metadata": {},
            "outputs": [],
            "source": []
        },
        {
            "cell_type": "code",
            "execution_count": null,
            "metadata": {},
            "outputs": [],
            "source": []
        },
        {
            "cell_type": "markdown",
            "metadata": {},
            "source": [
                "2. Afficher un graphique pour visualiser les tailles (height) en fonction des largeurs (width), sans tenir compte des classes des points dans un premier temps."
            ]
        },
        {
            "cell_type": "code",
            "execution_count": null,
            "metadata": {},
            "outputs": [],
            "source": []
        },
        {
            "cell_type": "markdown",
            "metadata": {},
            "source": [
                "3. Modifier votre graphique pour qu’il affiche les points avec des couleurs différentes en fonction du\n",
                "nom (<code>fruit_name</code>) du fruit. Vérifier que les classes sont assez équilibrées."
            ]
        },
        {
            "cell_type": "code",
            "execution_count": null,
            "metadata": {},
            "outputs": [],
            "source": []
        },
        {
            "cell_type": "code",
            "execution_count": null,
            "metadata": {},
            "outputs": [],
            "source": []
        },
        {
            "cell_type": "code",
            "execution_count": null,
            "metadata": {},
            "outputs": [],
            "source": []
        },
        {
            "cell_type": "markdown",
            "metadata": {},
            "source": [
                "4. Définir X les données composées de la taille, la longueur et la masse des fruits, et Y les noms des\n",
                "fruits."
            ]
        },
        {
            "cell_type": "code",
            "execution_count": null,
            "metadata": {},
            "outputs": [],
            "source": []
        },
        {
            "cell_type": "markdown",
            "metadata": {},
            "source": [
                "5. Découper les données en deux parties : une pour l’entraînement et une pour le test."
            ]
        },
        {
            "cell_type": "code",
            "execution_count": null,
            "metadata": {},
            "outputs": [],
            "source": []
        },
        {
            "cell_type": "markdown",
            "metadata": {},
            "source": [
                "6. Entraîner un classifieur $k$−nn à reconnaître les fruits. "
            ]
        },
        {
            "cell_type": "code",
            "execution_count": null,
            "metadata": {},
            "outputs": [],
            "source": []
        },
        {
            "cell_type": "markdown",
            "metadata": {},
            "source": [
                "7. Quelle est la valeur par défaut de $k$ ?"
            ]
        },
        {
            "cell_type": "code",
            "execution_count": null,
            "metadata": {},
            "outputs": [],
            "source": []
        },
        {
            "cell_type": "markdown",
            "metadata": {},
            "source": [
                "8. Utiliser votre jeu de test pour mesurer les performances de votre classifieur (matrice de confusion, accuracy, ...). "
            ]
        },
        {
            "cell_type": "code",
            "execution_count": null,
            "metadata": {},
            "outputs": [],
            "source": []
        },
        {
            "cell_type": "code",
            "execution_count": null,
            "metadata": {},
            "outputs": [],
            "source": []
        },
        {
            "cell_type": "code",
            "execution_count": null,
            "metadata": {},
            "outputs": [],
            "source": []
        },
        {
            "cell_type": "markdown",
            "metadata": {},
            "source": [
                "7. Quelle est la nature du fruit dont la masse, la largeur et la taille sont données respectivement par 100, 6.3 et 8? "
            ]
        },
        {
            "cell_type": "code",
            "execution_count": null,
            "metadata": {},
            "outputs": [],
            "source": []
        },
        {
            "cell_type": "markdown",
            "metadata": {},
            "source": [
                "8. Trouver une \"bonne\" valeur pour k."
            ]
        },
        {
            "cell_type": "code",
            "execution_count": null,
            "metadata": {},
            "outputs": [],
            "source": []
        },
        {
            "cell_type": "code",
            "execution_count": null,
            "metadata": {},
            "outputs": [],
            "source": []
        },
        {
            "cell_type": "code",
            "execution_count": null,
            "metadata": {},
            "outputs": [],
            "source": []
        },
        {
            "cell_type": "code",
            "execution_count": null,
            "metadata": {},
            "outputs": [],
            "source": []
        },
        {
            "cell_type": "code",
            "execution_count": null,
            "metadata": {},
            "outputs": [],
            "source": []
        }
    ],
    "metadata": {
        "kernelspec": {
            "display_name": "venv",
            "language": "python",
            "name": "python3"
        },
        "language_info": {
            "codemirror_mode": {
                "name": "ipython",
                "version": 3
            },
            "file_extension": ".py",
            "mimetype": "text/x-python",
            "name": "python",
            "nbconvert_exporter": "python",
            "pygments_lexer": "ipython3",
            "version": "3.11.2"
        }
    },
    "nbformat": 4,
    "nbformat_minor": 2
}
