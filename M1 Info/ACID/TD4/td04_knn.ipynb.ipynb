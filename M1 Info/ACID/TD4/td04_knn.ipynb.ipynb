{
    "cells": [
        {
            "cell_type": "code",
            "execution_count": null,
            "metadata": {},
            "outputs": [],
            "source": []
        },
        {
            "cell_type": "markdown",
            "metadata": {},
            "source": [
                "#### Université de Bordeaux,  Master Mention Informatique\n",
                "\n",
                "# Analyse, classification et indexation des données: feuille 5\n",
                "\n",
                "# Machine Learning\n",
                "\n",
                "#### k-Nearest Neighbors \n"
            ]
        },
        {
            "cell_type": "markdown",
            "metadata": {},
            "source": [
                "\n",
                "## Exercice 1.  k-Nearest Neighbors (from scratch)\n",
                "\n",
                "Dans ce premier exercice, nous allons coder un algorithme de classification : le $k$-nn."
            ]
        },
        {
            "cell_type": "markdown",
            "metadata": {},
            "source": [
                "On commence par importer les modules python :\n",
                "\n",
                "- numpy : pour des calculs (algèbre linéaire, etc)\n",
                "- pandas : pour la lecture des fichiers csv, etc "
            ]
        },
        {
            "cell_type": "code",
            "execution_count": 28,
            "metadata": {},
            "outputs": [],
            "source": [
                "import numpy as np\n",
                "import pandas as pa\n",
                "\n",
                "import warnings\n",
                "warnings.filterwarnings(\"ignore\")"
            ]
        },
        {
            "cell_type": "markdown",
            "metadata": {},
            "source": [
                "#### Etape 1 : Distance euclidienne"
            ]
        },
        {
            "cell_type": "markdown",
            "metadata": {},
            "source": [
                "1. Ecrire une fonction pour calculer la distance euclidienne entre deux points (représentés par des np.array). Attention, le tableau donné comme deuxième paramètre de la fonction contient, en dernière position, la classe de l'élément qu'il représente. Cette information n'est pas utilisée pour le calcul de distance."
            ]
        },
        {
            "cell_type": "code",
            "execution_count": 29,
            "metadata": {},
            "outputs": [],
            "source": [
                "def euclidean (point1, point2):\n",
                "    point2_clean = point2[:-1]\n",
                "    dist = np.sqrt(np.sum((point1 - point2_clean) ** 2))\n",
                "    return dist"
            ]
        },
        {
            "cell_type": "markdown",
            "metadata": {},
            "source": [
                "Tester votre fonction. Les instructions suivantes devront produire le résultat ci-dessous."
            ]
        },
        {
            "cell_type": "code",
            "execution_count": 30,
            "metadata": {},
            "outputs": [
                {
                    "name": "stdout",
                    "output_type": "stream",
                    "text": [
                        "0.0\n",
                        "1.7320508075688772\n"
                    ]
                }
            ],
            "source": [
                "u = np.array([1, 2, 3])\n",
                "v = np.array([1, 2, 3, 1])\n",
                "w = np.array([2, 3, 4, 0])\n",
                "print(euclidean(u, v)) # 0.0\n",
                "print(euclidean(u, w)) # 1.7320508075688772"
            ]
        },
        {
            "cell_type": "markdown",
            "metadata": {},
            "source": [
                "2. Ecrire une fonction pour calculer les distances d'un point à tous les autres points d'un dataset (matrice numpy - voir exemple)"
            ]
        },
        {
            "cell_type": "code",
            "execution_count": 31,
            "metadata": {},
            "outputs": [],
            "source": [
                "def distances (point, dataset):\n",
                "    dist = []\n",
                "    for p in dataset:\n",
                "        dist.append(euclidean(point, p))\n",
                "    return dist\n"
            ]
        },
        {
            "cell_type": "markdown",
            "metadata": {},
            "source": [
                "Tester votre fonction. Les instructions suivantes devront produire le résultat ci-dessous."
            ]
        },
        {
            "cell_type": "code",
            "execution_count": 32,
            "metadata": {},
            "outputs": [
                {
                    "name": "stdout",
                    "output_type": "stream",
                    "text": [
                        "[np.float64(0.0), np.float64(5.196152422706632), np.float64(1.7320508075688772), np.float64(3.4641016151377544)]\n"
                    ]
                }
            ],
            "source": [
                "u = np.array([1, 2, 3])\n",
                "dataset = np.array([[1, 2, 3, 0],\n",
                "                    [4, 5, 6, 0],\n",
                "                    [2, 3, 4, 1],\n",
                "                    [3, 4, 5, 1]])\n",
                "dist = distances(u, dataset)\n",
                "print(dist) # [0.0, 5.196152422706632, 1.7320508075688772, 3.4641016151377544]"
            ]
        },
        {
            "cell_type": "markdown",
            "metadata": {},
            "source": [
                "#### Etape 2 : Récupérer la liste des $k$ voisins les plus proches"
            ]
        },
        {
            "cell_type": "markdown",
            "metadata": {},
            "source": [
                "1. Ecrire une fonction <code>voisins</code> permettant de récupérer dans un dataset la liste des $k$-voisins les plus proches d'un point donné."
            ]
        },
        {
            "cell_type": "code",
            "execution_count": 33,
            "metadata": {},
            "outputs": [],
            "source": [
                "def voisins (point, dataset, nb_neighbors):\n",
                "    dist = []\n",
                "    for p in dataset:\n",
                "        dist.append((p, euclidean(point, p)))\n",
                "    dist.sort(key=lambda tup: tup[1])\n",
                "    knn = [dist[k][0] for k in range (nb_neighbors)]\n",
                "    return knn"
            ]
        },
        {
            "cell_type": "markdown",
            "metadata": {},
            "source": [
                "Tester votre fonction. Les instructions suivantes devront produire le résultat ci-dessous. "
            ]
        },
        {
            "cell_type": "code",
            "execution_count": 34,
            "metadata": {},
            "outputs": [
                {
                    "name": "stdout",
                    "output_type": "stream",
                    "text": [
                        "[array([1, 2, 3, 0]), array([2, 3, 4, 1])]\n"
                    ]
                }
            ],
            "source": [
                "u = np.array([1, 2, 3])\n",
                "dataset = np.array([[1, 2, 3, 0],\n",
                "                    [4, 5, 6, 0],\n",
                "                    [2, 3, 4, 1],\n",
                "                    [3, 4, 5, 1]])\n",
                "\n",
                "print(voisins(u, dataset, 2)) # [array([1, 2, 3, 0]), array([2, 3, 4, 1])]"
            ]
        },
        {
            "cell_type": "markdown",
            "metadata": {},
            "source": [
                "#### Etape 3 : Faire des prédictions"
            ]
        },
        {
            "cell_type": "markdown",
            "metadata": {},
            "source": [
                "1. Ecrire une fonction <code>classifier()</code> retournant la classe d'un élément $u$."
            ]
        },
        {
            "cell_type": "code",
            "execution_count": 35,
            "metadata": {},
            "outputs": [],
            "source": [
                "def classifier(point, dataset, nb_neighbors):\n",
                "    knn = voisins(point, dataset, nb_neighbors)\n",
                "    sum_class = 0\n",
                "    for p in knn:\n",
                "        if p[-1] == 0:\n",
                "            sum_class-=1\n",
                "        else:\n",
                "            sum_class+=1\n",
                "    if sum_class < 0:\n",
                "        return 0\n",
                "    else:\n",
                "        return 1"
            ]
        },
        {
            "cell_type": "markdown",
            "metadata": {},
            "source": [
                "Tester votre fonction. Les instructions suivantes devront produire le résultat ci-dessous. "
            ]
        },
        {
            "cell_type": "code",
            "execution_count": 36,
            "metadata": {},
            "outputs": [
                {
                    "name": "stdout",
                    "output_type": "stream",
                    "text": [
                        "1\n"
                    ]
                }
            ],
            "source": [
                "u = np.array([4, 5, 6])\n",
                "dataset = np.array([[1, 2, 3, 0],\n",
                "                   [2, 3, 4, 1],\n",
                "                   [3, 4, 5, 0],\n",
                "                   [4, 5, 6, 1],\n",
                "                   [1, 2, 3, 0]])\n",
                "\n",
                "print(classifier(u, dataset, 3)) # 1"
            ]
        },
        {
            "cell_type": "markdown",
            "metadata": {},
            "source": [
                "### Exercice 2. Application"
            ]
        },
        {
            "cell_type": "markdown",
            "metadata": {},
            "source": [
                "Dans cet exercice, nous allons appliquer l'algorithme écrit ci-dessus pour classifier des iris.\n",
                "Pour cela, nous commençons par charger le dataset : "
            ]
        },
        {
            "cell_type": "code",
            "execution_count": 37,
            "metadata": {},
            "outputs": [
                {
                    "name": "stdout",
                    "output_type": "stream",
                    "text": [
                        ".. _iris_dataset:\n",
                        "\n",
                        "Iris plants dataset\n",
                        "--------------------\n",
                        "\n",
                        "**Data Set Characteristics:**\n",
                        "\n",
                        ":Number of Instances: 150 (50 in each of three classes)\n",
                        ":Number of Attributes: 4 numeric, predictive attributes and the class\n",
                        ":Attribute Information:\n",
                        "    - sepal length in cm\n",
                        "    - sepal width in cm\n",
                        "    - petal length in cm\n",
                        "    - petal width in cm\n",
                        "    - class:\n",
                        "            - Iris-Setosa\n",
                        "            - Iris-Versicolour\n",
                        "            - Iris-Virginica\n",
                        "\n",
                        ":Summary Statistics:\n",
                        "\n",
                        "============== ==== ==== ======= ===== ====================\n",
                        "                Min  Max   Mean    SD   Class Correlation\n",
                        "============== ==== ==== ======= ===== ====================\n",
                        "sepal length:   4.3  7.9   5.84   0.83    0.7826\n",
                        "sepal width:    2.0  4.4   3.05   0.43   -0.4194\n",
                        "petal length:   1.0  6.9   3.76   1.76    0.9490  (high!)\n",
                        "petal width:    0.1  2.5   1.20   0.76    0.9565  (high!)\n",
                        "============== ==== ==== ======= ===== ====================\n",
                        "\n",
                        ":Missing Attribute Values: None\n",
                        ":Class Distribution: 33.3% for each of 3 classes.\n",
                        ":Creator: R.A. Fisher\n",
                        ":Donor: Michael Marshall (MARSHALL%PLU@io.arc.nasa.gov)\n",
                        ":Date: July, 1988\n",
                        "\n",
                        "The famous Iris database, first used by Sir R.A. Fisher. The dataset is taken\n",
                        "from Fisher's paper. Note that it's the same as in R, but not as in the UCI\n",
                        "Machine Learning Repository, which has two wrong data points.\n",
                        "\n",
                        "This is perhaps the best known database to be found in the\n",
                        "pattern recognition literature.  Fisher's paper is a classic in the field and\n",
                        "is referenced frequently to this day.  (See Duda & Hart, for example.)  The\n",
                        "data set contains 3 classes of 50 instances each, where each class refers to a\n",
                        "type of iris plant.  One class is linearly separable from the other 2; the\n",
                        "latter are NOT linearly separable from each other.\n",
                        "\n",
                        ".. dropdown:: References\n",
                        "\n",
                        "  - Fisher, R.A. \"The use of multiple measurements in taxonomic problems\"\n",
                        "    Annual Eugenics, 7, Part II, 179-188 (1936); also in \"Contributions to\n",
                        "    Mathematical Statistics\" (John Wiley, NY, 1950).\n",
                        "  - Duda, R.O., & Hart, P.E. (1973) Pattern Classification and Scene Analysis.\n",
                        "    (Q327.D83) John Wiley & Sons.  ISBN 0-471-22361-1.  See page 218.\n",
                        "  - Dasarathy, B.V. (1980) \"Nosing Around the Neighborhood: A New System\n",
                        "    Structure and Classification Rule for Recognition in Partially Exposed\n",
                        "    Environments\".  IEEE Transactions on Pattern Analysis and Machine\n",
                        "    Intelligence, Vol. PAMI-2, No. 1, 67-71.\n",
                        "  - Gates, G.W. (1972) \"The Reduced Nearest Neighbor Rule\".  IEEE Transactions\n",
                        "    on Information Theory, May 1972, 431-433.\n",
                        "  - See also: 1988 MLC Proceedings, 54-64.  Cheeseman et al\"s AUTOCLASS II\n",
                        "    conceptual clustering system finds 3 classes in the data.\n",
                        "  - Many, many more ...\n",
                        "\n"
                    ]
                }
            ],
            "source": [
                "from sklearn.datasets import load_iris\n",
                "iris = load_iris()\n",
                "print(iris.DESCR)"
            ]
        },
        {
            "cell_type": "markdown",
            "metadata": {},
            "source": [
                "Comme indiqué dans sa description, le dataset contient, pour chaque iris, la longueur et la largeur de sa sépale et la longueur et la largeur de sa pétale. Les iris sont ensuite classifiés soit en Iris-Setosa (0), soit en Iris-Versicolour (1) ou encore en Iris-Virginica (2) :\n",
                "                "
            ]
        },
        {
            "cell_type": "markdown",
            "metadata": {},
            "source": [
                "<b>Indication :</b> le dataset <code>iris</code> est composé de deux parties : \n",
                " - <code>iris.data</code> décrit les caractéristiques (features)\n",
                " - <code>iris.target</code> contient les classes"
            ]
        },
        {
            "cell_type": "code",
            "execution_count": 38,
            "metadata": {},
            "outputs": [
                {
                    "name": "stdout",
                    "output_type": "stream",
                    "text": [
                        "[0 0 0 0 0 0 0 0 0 0 0 0 0 0 0 0 0 0 0 0 0 0 0 0 0 0 0 0 0 0 0 0 0 0 0 0 0\n",
                        " 0 0 0 0 0 0 0 0 0 0 0 0 0 1 1 1 1 1 1 1 1 1 1 1 1 1 1 1 1 1 1 1 1 1 1 1 1\n",
                        " 1 1 1 1 1 1 1 1 1 1 1 1 1 1 1 1 1 1 1 1 1 1 1 1 1 1 2 2 2 2 2 2 2 2 2 2 2\n",
                        " 2 2 2 2 2 2 2 2 2 2 2 2 2 2 2 2 2 2 2 2 2 2 2 2 2 2 2 2 2 2 2 2 2 2 2 2 2\n",
                        " 2 2]\n"
                    ]
                }
            ],
            "source": [
                "print(iris.target)"
            ]
        },
        {
            "cell_type": "code",
            "execution_count": 39,
            "metadata": {},
            "outputs": [
                {
                    "name": "stdout",
                    "output_type": "stream",
                    "text": [
                        "(150, 4)\n"
                    ]
                }
            ],
            "source": [
                "print(iris.data.shape)"
            ]
        },
        {
            "cell_type": "code",
            "execution_count": 40,
            "metadata": {},
            "outputs": [
                {
                    "name": "stdout",
                    "output_type": "stream",
                    "text": [
                        "(150,)\n"
                    ]
                }
            ],
            "source": [
                "print(iris.target.shape)"
            ]
        },
        {
            "cell_type": "markdown",
            "metadata": {},
            "source": [
                "Pour des raisons pédagogiques, et pour se focaliser sur l'algorithme, nous avons choisi de l'implémenter pour faire de la classification binaire (c'est ce que réalisent les étapes de l'exercice 1). "
            ]
        },
        {
            "cell_type": "markdown",
            "metadata": {},
            "source": [
                "1. Ecrire l'instruction permettant de transformer le problème en un problème de classification binaire :  tous les Iris-Virginica (2) seront classés en Iris-Versicolour (1)."
            ]
        },
        {
            "cell_type": "code",
            "execution_count": 41,
            "metadata": {},
            "outputs": [],
            "source": [
                "for i in range(iris.target.shape[0]):\n",
                "    if iris.target[i] == 2:\n",
                "        iris.target[i] = 1"
            ]
        },
        {
            "cell_type": "code",
            "execution_count": 42,
            "metadata": {},
            "outputs": [
                {
                    "name": "stdout",
                    "output_type": "stream",
                    "text": [
                        "[0 0 0 0 0 0 0 0 0 0 0 0 0 0 0 0 0 0 0 0 0 0 0 0 0 0 0 0 0 0 0 0 0 0 0 0 0\n",
                        " 0 0 0 0 0 0 0 0 0 0 0 0 0 1 1 1 1 1 1 1 1 1 1 1 1 1 1 1 1 1 1 1 1 1 1 1 1\n",
                        " 1 1 1 1 1 1 1 1 1 1 1 1 1 1 1 1 1 1 1 1 1 1 1 1 1 1 1 1 1 1 1 1 1 1 1 1 1\n",
                        " 1 1 1 1 1 1 1 1 1 1 1 1 1 1 1 1 1 1 1 1 1 1 1 1 1 1 1 1 1 1 1 1 1 1 1 1 1\n",
                        " 1 1]\n",
                        "(150,)\n"
                    ]
                }
            ],
            "source": [
                "print(iris.target)\n",
                "print(iris.target.shape)"
            ]
        },
        {
            "cell_type": "markdown",
            "metadata": {},
            "source": [
                "2. Afin d'utiliser l'algorithme que vous avez implémenté dans l'exercice 1, créer un tableau <code>dataset</code> dont le contenu sera des iris avec leur classes. Pour pouvoir visualiser le dataset, nous n'allons garder que les deux premières colonnes."
            ]
        },
        {
            "cell_type": "code",
            "execution_count": 43,
            "metadata": {},
            "outputs": [],
            "source": [
                "dataset = np.array([[iris.data[k][0], iris.data[k][1], iris.target[k]] for k in range(iris.target.shape[0])])\n"
            ]
        },
        {
            "cell_type": "markdown",
            "metadata": {},
            "source": [
                "3. Visualiser le dataset"
            ]
        },
        {
            "cell_type": "code",
            "execution_count": 44,
            "metadata": {},
            "outputs": [
                {
                    "data": {
                        "image/png": "[encoded data removed]",
                        "text/plain": [
                            "<Figure size 640x480 with 1 Axes>"
                        ]
                    },
                    "metadata": {},
                    "output_type": "display_data"
                }
            ],
            "source": [
                "import matplotlib.pyplot as plt\n",
                "plt.scatter(dataset[:, 0], dataset[:, 1], c=dataset[:, 2], cmap='bwr', edgecolors='k')\n",
                "plt.show()"
            ]
        },
        {
            "cell_type": "markdown",
            "metadata": {},
            "source": [
                "4. Soit le vecteur $u(6.5, 2.5)$, utilisez votre algorithme avec $k=3$ pour classer $u$."
            ]
        },
        {
            "cell_type": "code",
            "execution_count": 45,
            "metadata": {},
            "outputs": [
                {
                    "name": "stdout",
                    "output_type": "stream",
                    "text": [
                        "1\n"
                    ]
                }
            ],
            "source": [
                "u = np.array([6.5, 2.5])\n",
                "print(classifier(u, dataset, 3))"
            ]
        },
        {
            "cell_type": "markdown",
            "metadata": {},
            "source": [
                "5. Afficher le nouveau point sur le graphique et vérifier visuellement votre résultat."
            ]
        },
        {
            "cell_type": "code",
            "execution_count": 51,
            "metadata": {},
            "outputs": [
                {
                    "name": "stdout",
                    "output_type": "stream",
                    "text": [
                        "6.5 2.5\n"
                    ]
                },
                {
                    "data": {
                        "image/png": "[encoded data removed]",
                        "text/plain": [
                            "<Figure size 640x480 with 1 Axes>"
                        ]
                    },
                    "metadata": {},
                    "output_type": "display_data"
                }
            ],
            "source": [
                "plt.scatter(dataset[:, 0], dataset[:, 1], c=dataset[:, 2], cmap='bwr', edgecolors='k')\n",
                "print(u[0], u[1])\n",
                "plt.scatter(u[0], u[1], color='green', s=75, edgecolors='k')\n",
                "plt.show()"
            ]
        },
        {
            "cell_type": "markdown",
            "metadata": {},
            "source": [
                "### Exercice 3 : $k$-nn avec <code>sklearn</code>"
            ]
        },
        {
            "cell_type": "markdown",
            "metadata": {},
            "source": [
                "Dans cet exercice, nous allons utiliser le classifieur $k$−nn pour apprendre à reconnaître des fruits. Pour cela, nous allons utiliser le dataset fruits disponible au format csv à l’adresse :\n",
                "               \n",
                "               https://www.labri.fr/~zemmari/datasets/fruits.csv"
            ]
        },
        {
            "cell_type": "markdown",
            "metadata": {},
            "source": [
                "1. Charger les données, puis afficher les informations pour vérifier si le dataset ne contient pas de données manquantes."
            ]
        },
        {
            "cell_type": "code",
            "execution_count": 58,
            "metadata": {},
            "outputs": [],
            "source": [
                "from pandas import read_csv\n",
                "\n",
                "data = read_csv(\"fruits.csv\", sep='\\t')\n"
            ]
        },
        {
            "cell_type": "code",
            "execution_count": 59,
            "metadata": {},
            "outputs": [
                {
                    "data": {
                        "text/html": [
                            "<div>\n",
                            "<style scoped>\n",
                            "    .dataframe tbody tr th:only-of-type {\n",
                            "        vertical-align: middle;\n",
                            "    }\n",
                            "\n",
                            "    .dataframe tbody tr th {\n",
                            "        vertical-align: top;\n",
                            "    }\n",
                            "\n",
                            "    .dataframe thead th {\n",
                            "        text-align: right;\n",
                            "    }\n",
                            "</style>\n",
                            "<table border=\"1\" class=\"dataframe\">\n",
                            "  <thead>\n",
                            "    <tr style=\"text-align: right;\">\n",
                            "      <th></th>\n",
                            "      <th>fruit_label</th>\n",
                            "      <th>fruit_name</th>\n",
                            "      <th>fruit_subtype</th>\n",
                            "      <th>mass</th>\n",
                            "      <th>width</th>\n",
                            "      <th>height</th>\n",
                            "      <th>color_score</th>\n",
                            "    </tr>\n",
                            "  </thead>\n",
                            "  <tbody>\n",
                            "    <tr>\n",
                            "      <th>0</th>\n",
                            "      <td>1</td>\n",
                            "      <td>apple</td>\n",
                            "      <td>granny_smith</td>\n",
                            "      <td>192</td>\n",
                            "      <td>8.4</td>\n",
                            "      <td>7.3</td>\n",
                            "      <td>0.55</td>\n",
                            "    </tr>\n",
                            "    <tr>\n",
                            "      <th>1</th>\n",
                            "      <td>1</td>\n",
                            "      <td>apple</td>\n",
                            "      <td>granny_smith</td>\n",
                            "      <td>180</td>\n",
                            "      <td>8.0</td>\n",
                            "      <td>6.8</td>\n",
                            "      <td>0.59</td>\n",
                            "    </tr>\n",
                            "    <tr>\n",
                            "      <th>2</th>\n",
                            "      <td>1</td>\n",
                            "      <td>apple</td>\n",
                            "      <td>granny_smith</td>\n",
                            "      <td>176</td>\n",
                            "      <td>7.4</td>\n",
                            "      <td>7.2</td>\n",
                            "      <td>0.60</td>\n",
                            "    </tr>\n",
                            "    <tr>\n",
                            "      <th>3</th>\n",
                            "      <td>2</td>\n",
                            "      <td>mandarin</td>\n",
                            "      <td>mandarin</td>\n",
                            "      <td>86</td>\n",
                            "      <td>6.2</td>\n",
                            "      <td>4.7</td>\n",
                            "      <td>0.80</td>\n",
                            "    </tr>\n",
                            "    <tr>\n",
                            "      <th>4</th>\n",
                            "      <td>2</td>\n",
                            "      <td>mandarin</td>\n",
                            "      <td>mandarin</td>\n",
                            "      <td>84</td>\n",
                            "      <td>6.0</td>\n",
                            "      <td>4.6</td>\n",
                            "      <td>0.79</td>\n",
                            "    </tr>\n",
                            "    <tr>\n",
                            "      <th>5</th>\n",
                            "      <td>2</td>\n",
                            "      <td>mandarin</td>\n",
                            "      <td>mandarin</td>\n",
                            "      <td>80</td>\n",
                            "      <td>5.8</td>\n",
                            "      <td>4.3</td>\n",
                            "      <td>0.77</td>\n",
                            "    </tr>\n",
                            "    <tr>\n",
                            "      <th>6</th>\n",
                            "      <td>2</td>\n",
                            "      <td>mandarin</td>\n",
                            "      <td>mandarin</td>\n",
                            "      <td>80</td>\n",
                            "      <td>5.9</td>\n",
                            "      <td>4.3</td>\n",
                            "      <td>0.81</td>\n",
                            "    </tr>\n",
                            "    <tr>\n",
                            "      <th>7</th>\n",
                            "      <td>2</td>\n",
                            "      <td>mandarin</td>\n",
                            "      <td>mandarin</td>\n",
                            "      <td>76</td>\n",
                            "      <td>5.8</td>\n",
                            "      <td>4.0</td>\n",
                            "      <td>0.81</td>\n",
                            "    </tr>\n",
                            "    <tr>\n",
                            "      <th>8</th>\n",
                            "      <td>1</td>\n",
                            "      <td>apple</td>\n",
                            "      <td>braeburn</td>\n",
                            "      <td>178</td>\n",
                            "      <td>7.1</td>\n",
                            "      <td>7.8</td>\n",
                            "      <td>0.92</td>\n",
                            "    </tr>\n",
                            "    <tr>\n",
                            "      <th>9</th>\n",
                            "      <td>1</td>\n",
                            "      <td>apple</td>\n",
                            "      <td>braeburn</td>\n",
                            "      <td>172</td>\n",
                            "      <td>7.4</td>\n",
                            "      <td>7.0</td>\n",
                            "      <td>0.89</td>\n",
                            "    </tr>\n",
                            "  </tbody>\n",
                            "</table>\n",
                            "</div>"
                        ],
                        "text/plain": [
                            "   fruit_label fruit_name fruit_subtype  mass  width  height  color_score\n",
                            "0            1      apple  granny_smith   192    8.4     7.3         0.55\n",
                            "1            1      apple  granny_smith   180    8.0     6.8         0.59\n",
                            "2            1      apple  granny_smith   176    7.4     7.2         0.60\n",
                            "3            2   mandarin      mandarin    86    6.2     4.7         0.80\n",
                            "4            2   mandarin      mandarin    84    6.0     4.6         0.79\n",
                            "5            2   mandarin      mandarin    80    5.8     4.3         0.77\n",
                            "6            2   mandarin      mandarin    80    5.9     4.3         0.81\n",
                            "7            2   mandarin      mandarin    76    5.8     4.0         0.81\n",
                            "8            1      apple      braeburn   178    7.1     7.8         0.92\n",
                            "9            1      apple      braeburn   172    7.4     7.0         0.89"
                        ]
                    },
                    "execution_count": 59,
                    "metadata": {},
                    "output_type": "execute_result"
                }
            ],
            "source": [
                "data.head(10)"
            ]
        },
        {
            "cell_type": "markdown",
            "metadata": {},
            "source": [
                "2. Afficher un graphique pour visualiser les tailles (height) en fonction des largeurs (width), sans tenir compte des classes des points dans un premier temps."
            ]
        },
        {
            "cell_type": "code",
            "execution_count": 65,
            "metadata": {},
            "outputs": [
                {
                    "data": {
                        "image/png": "[encoded data removed]",
                        "text/plain": [
                            "<Figure size 640x480 with 1 Axes>"
                        ]
                    },
                    "metadata": {},
                    "output_type": "display_data"
                }
            ],
            "source": [
                "plt.scatter(data[\"height\"], data[\"width\"])\n",
                "plt.show()"
            ]
        },
        {
            "cell_type": "markdown",
            "metadata": {},
            "source": [
                "3. Modifier votre graphique pour qu’il affiche les points avec des couleurs différentes en fonction du\n",
                "nom (<code>fruit_name</code>) du fruit. Vérifier que les classes sont assez équilibrées."
            ]
        },
        {
            "cell_type": "code",
            "execution_count": 75,
            "metadata": {},
            "outputs": [
                {
                    "data": {
                        "image/png": "[encoded data removed]",
                        "text/plain": [
                            "<Figure size 640x480 with 1 Axes>"
                        ]
                    },
                    "metadata": {},
                    "output_type": "display_data"
                }
            ],
            "source": [
                "from sklearn.preprocessing import LabelEncoder\n",
                "le = LabelEncoder()\n",
                "labels = le.fit_transform(data[\"fruit_name\"])\n",
                "plt.scatter(data[\"height\"], data[\"width\"], c=labels, cmap=\"Set1\")\n",
                "plt.show()"
            ]
        },
        {
            "cell_type": "code",
            "execution_count": null,
            "metadata": {},
            "outputs": [],
            "source": []
        },
        {
            "cell_type": "code",
            "execution_count": null,
            "metadata": {},
            "outputs": [],
            "source": []
        },
        {
            "cell_type": "markdown",
            "metadata": {},
            "source": [
                "4. Définir X les données composées de la taille, la longueur et la masse des fruits, et Y les noms des\n",
                "fruits."
            ]
        },
        {
            "cell_type": "code",
            "execution_count": 77,
            "metadata": {},
            "outputs": [],
            "source": [
                "X = data[[\"height\", \"width\", \"mass\"]].values\n",
                "Y = data[\"fruit_name\"].values"
            ]
        },
        {
            "cell_type": "markdown",
            "metadata": {},
            "source": [
                "5. Découper les données en deux parties : une pour l’entraînement et une pour le test."
            ]
        },
        {
            "cell_type": "code",
            "execution_count": 78,
            "metadata": {},
            "outputs": [],
            "source": [
                "from sklearn.model_selection import train_test_split\n",
                "\n",
                "X_train, X_test, Y_train, Y_test = train_test_split(X, Y, test_size=0.5, random_state=42)"
            ]
        },
        {
            "cell_type": "markdown",
            "metadata": {},
            "source": [
                "6. Entraîner un classifieur $k$−nn à reconnaître les fruits. "
            ]
        },
        {
            "cell_type": "code",
            "execution_count": null,
            "metadata": {},
            "outputs": [],
            "source": []
        },
        {
            "cell_type": "markdown",
            "metadata": {},
            "source": [
                "7. Quelle est la valeur par défaut de $k$ ?"
            ]
        },
        {
            "cell_type": "code",
            "execution_count": null,
            "metadata": {},
            "outputs": [],
            "source": []
        },
        {
            "cell_type": "markdown",
            "metadata": {},
            "source": [
                "8. Utiliser votre jeu de test pour mesurer les performances de votre classifieur (matrice de confusion, accuracy, ...). "
            ]
        },
        {
            "cell_type": "code",
            "execution_count": null,
            "metadata": {},
            "outputs": [],
            "source": []
        },
        {
            "cell_type": "code",
            "execution_count": null,
            "metadata": {},
            "outputs": [],
            "source": []
        },
        {
            "cell_type": "code",
            "execution_count": null,
            "metadata": {},
            "outputs": [],
            "source": []
        },
        {
            "cell_type": "markdown",
            "metadata": {},
            "source": [
                "7. Quelle est la nature du fruit dont la masse, la largeur et la taille sont données respectivement par 100, 6.3 et 8? "
            ]
        },
        {
            "cell_type": "code",
            "execution_count": null,
            "metadata": {},
            "outputs": [],
            "source": []
        },
        {
            "cell_type": "markdown",
            "metadata": {},
            "source": [
                "8. Trouver une \"bonne\" valeur pour k."
            ]
        },
        {
            "cell_type": "code",
            "execution_count": null,
            "metadata": {},
            "outputs": [],
            "source": []
        },
        {
            "cell_type": "code",
            "execution_count": null,
            "metadata": {},
            "outputs": [],
            "source": []
        },
        {
            "cell_type": "code",
            "execution_count": null,
            "metadata": {},
            "outputs": [],
            "source": []
        },
        {
            "cell_type": "code",
            "execution_count": null,
            "metadata": {},
            "outputs": [],
            "source": []
        },
        {
            "cell_type": "code",
            "execution_count": null,
            "metadata": {},
            "outputs": [],
            "source": []
        }
    ],
    "metadata": {
        "kernelspec": {
            "display_name": "venv",
            "language": "python",
            "name": "python3"
        },
        "language_info": {
            "codemirror_mode": {
                "name": "ipython",
                "version": 3
            },
            "file_extension": ".py",
            "mimetype": "text/x-python",
            "name": "python",
            "nbconvert_exporter": "python",
            "pygments_lexer": "ipython3",
            "version": "3.11.2"
        }
    },
    "nbformat": 4,
    "nbformat_minor": 2
}
