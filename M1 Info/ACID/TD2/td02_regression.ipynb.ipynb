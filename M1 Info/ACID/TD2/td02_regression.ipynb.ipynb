{
    "cells": [
        {
            "cell_type": "markdown",
            "metadata": {},
            "source": [
                "#### Université de Bordeaux,  Master Mention Informatique\n",
                "\n",
                "# Analyse, classification et indexation des données : feuille 3\n",
                "### Régression linéaire simple et multiple"
            ]
        },
        {
            "cell_type": "markdown",
            "metadata": {},
            "source": [
                "##### Avant de commencer :\n",
                "\n",
                "Le régression linéaire est l'une des méthodes statistiques les plus utilisées en sciences de données. Elle est utilisée pour <em>prédire</em> les valeurs d'une variable <em>dépendante</em> continue en fonction d'une ou plusieurs variables <em>indépendantes</em>.\n"
            ]
        },
        {
            "cell_type": "code",
            "execution_count": 1,
            "metadata": {},
            "outputs": [],
            "source": [
                "import pandas as pa"
            ]
        },
        {
            "cell_type": "markdown",
            "metadata": {},
            "source": [
                "### Exercice 1. Régression linéaire simple.\n",
                "\n",
                "La gérante d’un commerce veut évaluer l’impact des frais déboursés en publicité par mois (représentés par une variable $X$ exprimée en milliers d’euros) sur le chiffre d’affaires mensuel (représenté par une variable $Y$ exprimée en milliers d’euros). On aimerait évaluer dans quelle mesure une modification du budget publicitaire mensuel affecterait le chiffre d’affaires mensuel. On a donc recueilli sur une période de 10 mois les données du tableau ci-dessous.\n",
                "\n",
                "<table>\n",
                "<tr><td>Chiffre d'affaires</td> <td>220</td> <td>280</td> <td>250</td> <td>170</td> <td>150</td> <td>340</td> <td>310</td> <td>210</td> <td>180</td> <td>190</td></tr>\n",
                "<tr><td>Frais publicitaires</td> <td>2.6</td> <td>2.6</td> <td>2.4</td> <td>1.5</td> <td>0.9</td> <td>3.0</td> <td>2.7</td> <td>2.3</td> <td>1.7</td> <td>1.9</td></tr>\n",
                "\n",
                "</table>    "
            ]
        },
        {
            "cell_type": "markdown",
            "metadata": {},
            "source": [
                "1. Créer un <code>DataFrame</code> contenant les données du tableau ci-dessus."
            ]
        },
        {
            "cell_type": "code",
            "execution_count": null,
            "metadata": {},
            "outputs": [
                {
                    "data": {
                        "text/html": [
                            "<div>\n",
                            "<style scoped>\n",
                            "    .dataframe tbody tr th:only-of-type {\n",
                            "        vertical-align: middle;\n",
                            "    }\n",
                            "\n",
                            "    .dataframe tbody tr th {\n",
                            "        vertical-align: top;\n",
                            "    }\n",
                            "\n",
                            "    .dataframe thead th {\n",
                            "        text-align: right;\n",
                            "    }\n",
                            "</style>\n",
                            "<table border=\"1\" class=\"dataframe\">\n",
                            "  <thead>\n",
                            "    <tr style=\"text-align: right;\">\n",
                            "      <th></th>\n",
                            "      <th>CA</th>\n",
                            "      <th>Frais</th>\n",
                            "    </tr>\n",
                            "  </thead>\n",
                            "  <tbody>\n",
                            "    <tr>\n",
                            "      <th>0</th>\n",
                            "      <td>220</td>\n",
                            "      <td>2.6</td>\n",
                            "    </tr>\n",
                            "    <tr>\n",
                            "      <th>1</th>\n",
                            "      <td>280</td>\n",
                            "      <td>2.6</td>\n",
                            "    </tr>\n",
                            "    <tr>\n",
                            "      <th>2</th>\n",
                            "      <td>250</td>\n",
                            "      <td>2.4</td>\n",
                            "    </tr>\n",
                            "    <tr>\n",
                            "      <th>3</th>\n",
                            "      <td>170</td>\n",
                            "      <td>1.5</td>\n",
                            "    </tr>\n",
                            "    <tr>\n",
                            "      <th>4</th>\n",
                            "      <td>150</td>\n",
                            "      <td>0.9</td>\n",
                            "    </tr>\n",
                            "  </tbody>\n",
                            "</table>\n",
                            "</div>"
                        ],
                        "text/plain": [
                            "    CA  Frais\n",
                            "0  220    2.6\n",
                            "1  280    2.6\n",
                            "2  250    2.4\n",
                            "3  170    1.5\n",
                            "4  150    0.9"
                        ]
                    },
                    "execution_count": 2,
                    "metadata": {},
                    "output_type": "execute_result"
                }
            ],
            "source": [
                "dic = {\"CA\" : (220, 280, 250, 170, 150, 340, 310, 210, 180, 190),\n",
                "       \"Frais\" : (2.6, 2.6, 2.4, 1.5, 0.9, 3.0, 2.7, 2.3, 1.7, 1.9)}\n",
                "df = pa.DataFrame(data=dic)\n",
                "df.head()"
            ]
        },
        {
            "cell_type": "markdown",
            "metadata": {},
            "source": [
                "2. Tracer le nuage de points et estimer le coefficient de corrélation linéaire."
            ]
        },
        {
            "cell_type": "code",
            "execution_count": 3,
            "metadata": {},
            "outputs": [],
            "source": [
                "import matplotlib.pyplot as plt\n",
                "\n",
                "X = df[\"Frais\"]\n",
                "Y = df[\"CA\"]"
            ]
        },
        {
            "cell_type": "code",
            "execution_count": 35,
            "metadata": {},
            "outputs": [
                {
                    "name": "stdout",
                    "output_type": "stream",
                    "text": [
                        "coefficient de corrélation linéaire : 2.1551564302304898\n"
                    ]
                },
                {
                    "data": {
                        "image/png": "[encoded data removed]",
                        "text/plain": [
                            "<Figure size 640x480 with 1 Axes>"
                        ]
                    },
                    "metadata": {},
                    "output_type": "display_data"
                }
            ],
            "source": [
                "from scipy import stats\n",
                "\n",
                "plt.scatter(X, Y)\n",
                "X_mean = X.mean()\n",
                "Y_mean = Y.mean()\n",
                "num = ((X - X_mean) * (Y - Y_mean)).sum()\n",
                "den = ((((X - X_mean) ** 2) * ((Y - Y_mean) ** 2)).sum()) ** 0.5\n",
                "coeff = num/den\n",
                "print(\"coefficient de corrélation linéaire :\", coeff)\n",
                "\n",
                "plt.show()\n"
            ]
        },
        {
            "cell_type": "markdown",
            "metadata": {},
            "source": [
                "3. Etablir la droite de régression correspondant à ce problème et tracer cette droite. Vous pouvez utiliser l'instruction <code>linregress</code> du module <code>stats</code>"
            ]
        },
        {
            "cell_type": "code",
            "execution_count": 36,
            "metadata": {},
            "outputs": [
                {
                    "data": {
                        "image/png": "[encoded data removed]",
                        "text/plain": [
                            "<Figure size 640x480 with 1 Axes>"
                        ]
                    },
                    "metadata": {},
                    "output_type": "display_data"
                }
            ],
            "source": [
                "res = stats.linregress(X, Y)\n",
                "\n",
                "plt.plot(X, Y, 'o', label = \"original data\")\n",
                "plt.plot(X, res.intercept + res.slope * X, 'r', label = \"fitted line\")\n",
                "plt.legend()\n",
                "plt.show()"
            ]
        },
        {
            "cell_type": "code",
            "execution_count": null,
            "metadata": {},
            "outputs": [],
            "source": []
        },
        {
            "cell_type": "markdown",
            "metadata": {},
            "source": [
                "4. Tester la significativité de la régression au risque 5%."
            ]
        },
        {
            "cell_type": "markdown",
            "metadata": {},
            "source": []
        },
        {
            "cell_type": "code",
            "execution_count": 37,
            "metadata": {},
            "outputs": [
                {
                    "name": "stdout",
                    "output_type": "stream",
                    "text": [
                        "p-value : 0.0004894341749604697\n"
                    ]
                }
            ],
            "source": [
                "print(\"p-value :\", res.pvalue)"
            ]
        },
        {
            "cell_type": "code",
            "execution_count": null,
            "metadata": {},
            "outputs": [],
            "source": []
        },
        {
            "cell_type": "markdown",
            "metadata": {},
            "source": []
        },
        {
            "cell_type": "markdown",
            "metadata": {},
            "source": [
                "5. Calculer le coefficient de détermination."
            ]
        },
        {
            "cell_type": "code",
            "execution_count": 38,
            "metadata": {},
            "outputs": [
                {
                    "name": "stdout",
                    "output_type": "stream",
                    "text": [
                        "SCT : 36000.0\n",
                        "SCE : 28756.90754516471\n",
                        "SCR : 7243.092454835274\n",
                        "my r-value :  0.7988029873656864\n",
                        "my r-value 2: 0.7988029873656868\n",
                        "r-value :     0.7988029873656866\n"
                    ]
                }
            ],
            "source": [
                "Y_mean = Y.mean()\n",
                "SCT = ((Y - Y_mean) ** 2).sum()\n",
                "SCE = (((res.intercept + res.slope * X) - Y_mean) ** 2).sum()\n",
                "SCR = ((Y - (res.intercept + res.slope * X)) ** 2).sum()\n",
                "\n",
                "print(\"SCT :\", SCT)\n",
                "print(\"SCE :\", SCE)\n",
                "print(\"SCR :\", SCR)\n",
                "print(\"my r-value : \", (SCE/SCT))\n",
                "print(\"my r-value 2:\", 1 - (SCR/SCT))\n",
                "print(\"r-value :    \", res.rvalue ** 2)\n"
            ]
        },
        {
            "cell_type": "markdown",
            "metadata": {},
            "source": []
        },
        {
            "cell_type": "markdown",
            "metadata": {},
            "source": [
                "6. Quel serait le chiffre d’affaires mensuel prédit par le modèle pour un budget publicitaire mensuel de 400 euros ? de 4000 euros ?"
            ]
        },
        {
            "cell_type": "code",
            "execution_count": 51,
            "metadata": {},
            "outputs": [
                {
                    "name": "stdout",
                    "output_type": "stream",
                    "text": [
                        "76.16365568544109\n",
                        "172.31137088204042\n",
                        "390.8289054197662\n"
                    ]
                }
            ],
            "source": [
                "print(res.slope * .4 + res.intercept)\n",
                "print(res.slope * 1.5 + res.intercept)\n",
                "print(res.slope * 4 + res.intercept)"
            ]
        },
        {
            "cell_type": "markdown",
            "metadata": {},
            "source": [
                "### Exercice 2. Régression linéaire multiple\n",
                "\n",
                "Nous voulons savoir quels sont les facteurs importants qui influencent la valeur d’une propriété. L'objectif est de construire un modèle qui nous aidera à évaluer cette valeur selon ces facteurs. Pour ce faire, nous utilisons la valeur totale pour un échantillon de 79 propriétés dans une région donnée. Voir le fichier <code>proprietes.csv</code> disponible à l’adresse :\n",
                "\n",
                "http://www.labri.fr/~zemmari/datasets/proprietes.csv\n",
                "\n",
                "Le fichier contient les variables suivantes correspondant chacune à un facteur : \n",
                "- Valeur Totale : valeur globale de la propriété\n",
                "- Valeur Terrain : valeur du terrain sur lequel est bâtie la maison\n",
                "- Acre : Superficie en acres\n",
                "- Pieds2 : Superficie en pieds2\n",
                "- Extérieur : Etat extérieur\n",
                "- Chauffage : Type du chauffage utilisé\n",
                "- Pièces : Nombre de pièces dans la maison\n",
                "- Chambres : Nombre de chambres dans la maison\n",
                "- SbainsC : Nombre de salles de bain complètes\n",
                "- Sbains : Nombre de salles de bain non complètes\n",
                "- Foyers : Nombre de foyers\n",
                "- Garage : Indique si la propriété contient un garage ou non.\n",
                "\n",
                "Après avoir chargé les données dans un DataFrame vous pouvez visualiser les premières entrées avec la fonction head et inspecter globalement les données avec la fonction info. Y a-t-il des données manquantes?"
            ]
        },
        {
            "cell_type": "code",
            "execution_count": 65,
            "metadata": {},
            "outputs": [
                {
                    "data": {
                        "text/html": [
                            "<div>\n",
                            "<style scoped>\n",
                            "    .dataframe tbody tr th:only-of-type {\n",
                            "        vertical-align: middle;\n",
                            "    }\n",
                            "\n",
                            "    .dataframe tbody tr th {\n",
                            "        vertical-align: top;\n",
                            "    }\n",
                            "\n",
                            "    .dataframe thead th {\n",
                            "        text-align: right;\n",
                            "    }\n",
                            "</style>\n",
                            "<table border=\"1\" class=\"dataframe\">\n",
                            "  <thead>\n",
                            "    <tr style=\"text-align: right;\">\n",
                            "      <th></th>\n",
                            "      <th>Valeur Totale</th>\n",
                            "      <th>Valeur Terrain</th>\n",
                            "      <th>Pied2</th>\n",
                            "      <th>Pièces</th>\n",
                            "      <th>Chambre</th>\n",
                            "      <th>SbainsC</th>\n",
                            "      <th>Sbains</th>\n",
                            "      <th>Foyers</th>\n",
                            "    </tr>\n",
                            "  </thead>\n",
                            "  <tbody>\n",
                            "    <tr>\n",
                            "      <th>0</th>\n",
                            "      <td>199657</td>\n",
                            "      <td>63247</td>\n",
                            "      <td>1726</td>\n",
                            "      <td>8</td>\n",
                            "      <td>4</td>\n",
                            "      <td>2</td>\n",
                            "      <td>1</td>\n",
                            "      <td>2</td>\n",
                            "    </tr>\n",
                            "    <tr>\n",
                            "      <th>1</th>\n",
                            "      <td>78482</td>\n",
                            "      <td>38091</td>\n",
                            "      <td>1184</td>\n",
                            "      <td>6</td>\n",
                            "      <td>2</td>\n",
                            "      <td>1</td>\n",
                            "      <td>0</td>\n",
                            "      <td>0</td>\n",
                            "    </tr>\n",
                            "    <tr>\n",
                            "      <th>2</th>\n",
                            "      <td>119962</td>\n",
                            "      <td>37665</td>\n",
                            "      <td>1014</td>\n",
                            "      <td>7</td>\n",
                            "      <td>3</td>\n",
                            "      <td>2</td>\n",
                            "      <td>0</td>\n",
                            "      <td>1</td>\n",
                            "    </tr>\n",
                            "    <tr>\n",
                            "      <th>3</th>\n",
                            "      <td>116492</td>\n",
                            "      <td>54062</td>\n",
                            "      <td>1260</td>\n",
                            "      <td>6</td>\n",
                            "      <td>3</td>\n",
                            "      <td>2</td>\n",
                            "      <td>0</td>\n",
                            "      <td>1</td>\n",
                            "    </tr>\n",
                            "    <tr>\n",
                            "      <th>4</th>\n",
                            "      <td>131263</td>\n",
                            "      <td>61546</td>\n",
                            "      <td>1314</td>\n",
                            "      <td>8</td>\n",
                            "      <td>4</td>\n",
                            "      <td>2</td>\n",
                            "      <td>1</td>\n",
                            "      <td>2</td>\n",
                            "    </tr>\n",
                            "    <tr>\n",
                            "      <th>5</th>\n",
                            "      <td>244128</td>\n",
                            "      <td>97177</td>\n",
                            "      <td>1040</td>\n",
                            "      <td>10</td>\n",
                            "      <td>5</td>\n",
                            "      <td>3</td>\n",
                            "      <td>0</td>\n",
                            "      <td>1</td>\n",
                            "    </tr>\n",
                            "    <tr>\n",
                            "      <th>6</th>\n",
                            "      <td>240777</td>\n",
                            "      <td>83702</td>\n",
                            "      <td>1752</td>\n",
                            "      <td>9</td>\n",
                            "      <td>4</td>\n",
                            "      <td>3</td>\n",
                            "      <td>2</td>\n",
                            "      <td>3</td>\n",
                            "    </tr>\n",
                            "    <tr>\n",
                            "      <th>7</th>\n",
                            "      <td>381984</td>\n",
                            "      <td>84504</td>\n",
                            "      <td>2504</td>\n",
                            "      <td>9</td>\n",
                            "      <td>4</td>\n",
                            "      <td>3</td>\n",
                            "      <td>2</td>\n",
                            "      <td>2</td>\n",
                            "    </tr>\n",
                            "    <tr>\n",
                            "      <th>8</th>\n",
                            "      <td>137275</td>\n",
                            "      <td>88754</td>\n",
                            "      <td>708</td>\n",
                            "      <td>8</td>\n",
                            "      <td>4</td>\n",
                            "      <td>1</td>\n",
                            "      <td>0</td>\n",
                            "      <td>0</td>\n",
                            "    </tr>\n",
                            "    <tr>\n",
                            "      <th>9</th>\n",
                            "      <td>131625</td>\n",
                            "      <td>58480</td>\n",
                            "      <td>1776</td>\n",
                            "      <td>7</td>\n",
                            "      <td>3</td>\n",
                            "      <td>7</td>\n",
                            "      <td>1</td>\n",
                            "      <td>2</td>\n",
                            "    </tr>\n",
                            "  </tbody>\n",
                            "</table>\n",
                            "</div>"
                        ],
                        "text/plain": [
                            "   Valeur Totale  Valeur Terrain  Pied2  Pièces  Chambre  SbainsC  Sbains  \\\n",
                            "0         199657           63247   1726       8        4        2       1   \n",
                            "1          78482           38091   1184       6        2        1       0   \n",
                            "2         119962           37665   1014       7        3        2       0   \n",
                            "3         116492           54062   1260       6        3        2       0   \n",
                            "4         131263           61546   1314       8        4        2       1   \n",
                            "5         244128           97177   1040      10        5        3       0   \n",
                            "6         240777           83702   1752       9        4        3       2   \n",
                            "7         381984           84504   2504       9        4        3       2   \n",
                            "8         137275           88754    708       8        4        1       0   \n",
                            "9         131625           58480   1776       7        3        7       1   \n",
                            "\n",
                            "   Foyers  \n",
                            "0       2  \n",
                            "1       0  \n",
                            "2       1  \n",
                            "3       1  \n",
                            "4       2  \n",
                            "5       1  \n",
                            "6       3  \n",
                            "7       2  \n",
                            "8       0  \n",
                            "9       2  "
                        ]
                    },
                    "execution_count": 65,
                    "metadata": {},
                    "output_type": "execute_result"
                }
            ],
            "source": [
                "from pandas import read_csv\n",
                "\n",
                "data = read_csv(\"proprietes.csv\", sep=';').select_dtypes(include=\"number\")\n",
                "data.head(10)"
            ]
        },
        {
            "cell_type": "code",
            "execution_count": null,
            "metadata": {},
            "outputs": [],
            "source": []
        },
        {
            "cell_type": "markdown",
            "metadata": {},
            "source": [
                "1. Y a-t-il un lien entre la valeur totale et les différents facteurs ?"
            ]
        },
        {
            "cell_type": "code",
            "execution_count": 66,
            "metadata": {},
            "outputs": [
                {
                    "data": {
                        "text/plain": [
                            "'¯\\\\_(ツ)_/¯'"
                        ]
                    },
                    "execution_count": 66,
                    "metadata": {},
                    "output_type": "execute_result"
                }
            ],
            "source": [
                "'¯\\_(ツ)_/¯'"
            ]
        },
        {
            "cell_type": "markdown",
            "metadata": {},
            "source": []
        },
        {
            "cell_type": "markdown",
            "metadata": {},
            "source": [
                "2. Afficher les valeurs des différentes statistiques desciptives."
            ]
        },
        {
            "cell_type": "code",
            "execution_count": 70,
            "metadata": {},
            "outputs": [
                {
                    "data": {
                        "text/html": [
                            "<table class=\"simpletable\">\n",
                            "<caption>OLS Regression Results</caption>\n",
                            "<tr>\n",
                            "  <th>Dep. Variable:</th>      <td>Valeur Totale</td>  <th>  R-squared (uncentered):</th>      <td>   0.975</td>\n",
                            "</tr>\n",
                            "<tr>\n",
                            "  <th>Model:</th>                   <td>OLS</td>       <th>  Adj. R-squared (uncentered):</th> <td>   0.973</td>\n",
                            "</tr>\n",
                            "<tr>\n",
                            "  <th>Method:</th>             <td>Least Squares</td>  <th>  F-statistic:       </th>          <td>   400.2</td>\n",
                            "</tr>\n",
                            "<tr>\n",
                            "  <th>Date:</th>             <td>Wed, 01 Oct 2025</td> <th>  Prob (F-statistic):</th>          <td>5.72e-55</td>\n",
                            "</tr>\n",
                            "<tr>\n",
                            "  <th>Time:</th>                 <td>12:02:57</td>     <th>  Log-Likelihood:    </th>          <td> -932.78</td>\n",
                            "</tr>\n",
                            "<tr>\n",
                            "  <th>No. Observations:</th>      <td>    79</td>      <th>  AIC:               </th>          <td>   1880.</td>\n",
                            "</tr>\n",
                            "<tr>\n",
                            "  <th>Df Residuals:</th>          <td>    72</td>      <th>  BIC:               </th>          <td>   1896.</td>\n",
                            "</tr>\n",
                            "<tr>\n",
                            "  <th>Df Model:</th>              <td>     7</td>      <th>                     </th>              <td> </td>   \n",
                            "</tr>\n",
                            "<tr>\n",
                            "  <th>Covariance Type:</th>      <td>nonrobust</td>    <th>                     </th>              <td> </td>   \n",
                            "</tr>\n",
                            "</table>\n",
                            "<table class=\"simpletable\">\n",
                            "<tr>\n",
                            "         <td></td>           <th>coef</th>     <th>std err</th>      <th>t</th>      <th>P>|t|</th>  <th>[0.025</th>    <th>0.975]</th>  \n",
                            "</tr>\n",
                            "<tr>\n",
                            "  <th>Valeur Terrain</th> <td>    1.5608</td> <td>    0.218</td> <td>    7.174</td> <td> 0.000</td> <td>    1.127</td> <td>    1.994</td>\n",
                            "</tr>\n",
                            "<tr>\n",
                            "  <th>Pied2</th>          <td>   47.0670</td> <td>    7.881</td> <td>    5.972</td> <td> 0.000</td> <td>   31.356</td> <td>   62.779</td>\n",
                            "</tr>\n",
                            "<tr>\n",
                            "  <th>Pièces</th>         <td>-9119.9321</td> <td> 3285.492</td> <td>   -2.776</td> <td> 0.007</td> <td>-1.57e+04</td> <td>-2570.424</td>\n",
                            "</tr>\n",
                            "<tr>\n",
                            "  <th>Chambre</th>        <td> 1.006e+04</td> <td> 6020.740</td> <td>    1.670</td> <td> 0.099</td> <td>-1946.373</td> <td> 2.21e+04</td>\n",
                            "</tr>\n",
                            "<tr>\n",
                            "  <th>SbainsC</th>        <td> 1.071e+04</td> <td> 4071.081</td> <td>    2.631</td> <td> 0.010</td> <td> 2593.810</td> <td> 1.88e+04</td>\n",
                            "</tr>\n",
                            "<tr>\n",
                            "  <th>Sbains</th>         <td> 2.769e+04</td> <td> 7158.494</td> <td>    3.868</td> <td> 0.000</td> <td> 1.34e+04</td> <td>  4.2e+04</td>\n",
                            "</tr>\n",
                            "<tr>\n",
                            "  <th>Foyers</th>         <td> 1264.6186</td> <td> 3644.700</td> <td>    0.347</td> <td> 0.730</td> <td>-6000.958</td> <td> 8530.195</td>\n",
                            "</tr>\n",
                            "</table>\n",
                            "<table class=\"simpletable\">\n",
                            "<tr>\n",
                            "  <th>Omnibus:</th>       <td> 5.331</td> <th>  Durbin-Watson:     </th> <td>   1.586</td>\n",
                            "</tr>\n",
                            "<tr>\n",
                            "  <th>Prob(Omnibus):</th> <td> 0.070</td> <th>  Jarque-Bera (JB):  </th> <td>   7.562</td>\n",
                            "</tr>\n",
                            "<tr>\n",
                            "  <th>Skew:</th>          <td> 0.091</td> <th>  Prob(JB):          </th> <td>  0.0228</td>\n",
                            "</tr>\n",
                            "<tr>\n",
                            "  <th>Kurtosis:</th>      <td> 4.505</td> <th>  Cond. No.          </th> <td>1.55e+05</td>\n",
                            "</tr>\n",
                            "</table><br/><br/>Notes:<br/>[1] R² is computed without centering (uncentered) since the model does not contain a constant.<br/>[2] Standard Errors assume that the covariance matrix of the errors is correctly specified.<br/>[3] The condition number is large, 1.55e+05. This might indicate that there are<br/>strong multicollinearity or other numerical problems."
                        ],
                        "text/latex": [
                            "\\begin{center}\n",
                            "\\begin{tabular}{lclc}\n",
                            "\\toprule\n",
                            "\\textbf{Dep. Variable:}    &  Valeur Totale   & \\textbf{  R-squared (uncentered):}      &     0.975   \\\\\n",
                            "\\textbf{Model:}            &       OLS        & \\textbf{  Adj. R-squared (uncentered):} &     0.973   \\\\\n",
                            "\\textbf{Method:}           &  Least Squares   & \\textbf{  F-statistic:       }          &     400.2   \\\\\n",
                            "\\textbf{Date:}             & Wed, 01 Oct 2025 & \\textbf{  Prob (F-statistic):}          &  5.72e-55   \\\\\n",
                            "\\textbf{Time:}             &     12:02:57     & \\textbf{  Log-Likelihood:    }          &   -932.78   \\\\\n",
                            "\\textbf{No. Observations:} &          79      & \\textbf{  AIC:               }          &     1880.   \\\\\n",
                            "\\textbf{Df Residuals:}     &          72      & \\textbf{  BIC:               }          &     1896.   \\\\\n",
                            "\\textbf{Df Model:}         &           7      & \\textbf{                     }          &             \\\\\n",
                            "\\textbf{Covariance Type:}  &    nonrobust     & \\textbf{                     }          &             \\\\\n",
                            "\\bottomrule\n",
                            "\\end{tabular}\n",
                            "\\begin{tabular}{lcccccc}\n",
                            "                        & \\textbf{coef} & \\textbf{std err} & \\textbf{t} & \\textbf{P$> |$t$|$} & \\textbf{[0.025} & \\textbf{0.975]}  \\\\\n",
                            "\\midrule\n",
                            "\\textbf{Valeur Terrain} &       1.5608  &        0.218     &     7.174  &         0.000        &        1.127    &        1.994     \\\\\n",
                            "\\textbf{Pied2}          &      47.0670  &        7.881     &     5.972  &         0.000        &       31.356    &       62.779     \\\\\n",
                            "\\textbf{Pièces}         &   -9119.9321  &     3285.492     &    -2.776  &         0.007        &    -1.57e+04    &    -2570.424     \\\\\n",
                            "\\textbf{Chambre}        &    1.006e+04  &     6020.740     &     1.670  &         0.099        &    -1946.373    &     2.21e+04     \\\\\n",
                            "\\textbf{SbainsC}        &    1.071e+04  &     4071.081     &     2.631  &         0.010        &     2593.810    &     1.88e+04     \\\\\n",
                            "\\textbf{Sbains}         &    2.769e+04  &     7158.494     &     3.868  &         0.000        &     1.34e+04    &      4.2e+04     \\\\\n",
                            "\\textbf{Foyers}         &    1264.6186  &     3644.700     &     0.347  &         0.730        &    -6000.958    &     8530.195     \\\\\n",
                            "\\bottomrule\n",
                            "\\end{tabular}\n",
                            "\\begin{tabular}{lclc}\n",
                            "\\textbf{Omnibus:}       &  5.331 & \\textbf{  Durbin-Watson:     } &    1.586  \\\\\n",
                            "\\textbf{Prob(Omnibus):} &  0.070 & \\textbf{  Jarque-Bera (JB):  } &    7.562  \\\\\n",
                            "\\textbf{Skew:}          &  0.091 & \\textbf{  Prob(JB):          } &   0.0228  \\\\\n",
                            "\\textbf{Kurtosis:}      &  4.505 & \\textbf{  Cond. No.          } & 1.55e+05  \\\\\n",
                            "\\bottomrule\n",
                            "\\end{tabular}\n",
                            "%\\caption{OLS Regression Results}\n",
                            "\\end{center}\n",
                            "\n",
                            "Notes: \\newline\n",
                            " [1] R² is computed without centering (uncentered) since the model does not contain a constant. \\newline\n",
                            " [2] Standard Errors assume that the covariance matrix of the errors is correctly specified. \\newline\n",
                            " [3] The condition number is large, 1.55e+05. This might indicate that there are \\newline\n",
                            " strong multicollinearity or other numerical problems."
                        ],
                        "text/plain": [
                            "<class 'statsmodels.iolib.summary.Summary'>\n",
                            "\"\"\"\n",
                            "                                 OLS Regression Results                                \n",
                            "=======================================================================================\n",
                            "Dep. Variable:          Valeur Totale   R-squared (uncentered):                   0.975\n",
                            "Model:                            OLS   Adj. R-squared (uncentered):              0.973\n",
                            "Method:                 Least Squares   F-statistic:                              400.2\n",
                            "Date:                Wed, 01 Oct 2025   Prob (F-statistic):                    5.72e-55\n",
                            "Time:                        12:02:57   Log-Likelihood:                         -932.78\n",
                            "No. Observations:                  79   AIC:                                      1880.\n",
                            "Df Residuals:                      72   BIC:                                      1896.\n",
                            "Df Model:                           7                                                  \n",
                            "Covariance Type:            nonrobust                                                  \n",
                            "==================================================================================\n",
                            "                     coef    std err          t      P>|t|      [0.025      0.975]\n",
                            "----------------------------------------------------------------------------------\n",
                            "Valeur Terrain     1.5608      0.218      7.174      0.000       1.127       1.994\n",
                            "Pied2             47.0670      7.881      5.972      0.000      31.356      62.779\n",
                            "Pièces         -9119.9321   3285.492     -2.776      0.007   -1.57e+04   -2570.424\n",
                            "Chambre         1.006e+04   6020.740      1.670      0.099   -1946.373    2.21e+04\n",
                            "SbainsC         1.071e+04   4071.081      2.631      0.010    2593.810    1.88e+04\n",
                            "Sbains          2.769e+04   7158.494      3.868      0.000    1.34e+04     4.2e+04\n",
                            "Foyers          1264.6186   3644.700      0.347      0.730   -6000.958    8530.195\n",
                            "==============================================================================\n",
                            "Omnibus:                        5.331   Durbin-Watson:                   1.586\n",
                            "Prob(Omnibus):                  0.070   Jarque-Bera (JB):                7.562\n",
                            "Skew:                           0.091   Prob(JB):                       0.0228\n",
                            "Kurtosis:                       4.505   Cond. No.                     1.55e+05\n",
                            "==============================================================================\n",
                            "\n",
                            "Notes:\n",
                            "[1] R² is computed without centering (uncentered) since the model does not contain a constant.\n",
                            "[2] Standard Errors assume that the covariance matrix of the errors is correctly specified.\n",
                            "[3] The condition number is large, 1.55e+05. This might indicate that there are\n",
                            "strong multicollinearity or other numerical problems.\n",
                            "\"\"\""
                        ]
                    },
                    "execution_count": 70,
                    "metadata": {},
                    "output_type": "execute_result"
                }
            ],
            "source": [
                "from statsmodels.regression.linear_model import OLS\n",
                "X = data[[\"Valeur Terrain\", \"Pied2\", \"Pièces\", \"Chambre\", \"SbainsC\", \"Sbains\", \"Foyers\"]]\n",
                "Y = data[\"Valeur Totale\"]\n",
                "model = OLS(Y,X)\n",
                "results = model.fit()\n",
                "report = results.summary()\n",
                "report"
            ]
        },
        {
            "cell_type": "markdown",
            "metadata": {},
            "source": [
                "3. Faites les différentes régressions linéaires simples possibles, et choisissez la (ou les) plus pertinente(s)."
            ]
        },
        {
            "cell_type": "code",
            "execution_count": 71,
            "metadata": {},
            "outputs": [
                {
                    "ename": "AttributeError",
                    "evalue": "module 'matplotlib' has no attribute 'plot'",
                    "output_type": "error",
                    "traceback": [
                        "\u001b[31m---------------------------------------------------------------------------\u001b[39m",
                        "\u001b[31mAttributeError\u001b[39m                            Traceback (most recent call last)",
                        "\u001b[36mCell\u001b[39m\u001b[36m \u001b[39m\u001b[32mIn[71]\u001b[39m\u001b[32m, line 2\u001b[39m\n\u001b[32m      1\u001b[39m \u001b[38;5;28;01mimport\u001b[39;00m\u001b[38;5;250m \u001b[39m\u001b[34;01mmatplotlib\u001b[39;00m\u001b[38;5;250m \u001b[39m\u001b[38;5;28;01mas\u001b[39;00m\u001b[38;5;250m \u001b[39m\u001b[34;01mplt\u001b[39;00m\n\u001b[32m----> \u001b[39m\u001b[32m2\u001b[39m \u001b[43mplt\u001b[49m\u001b[43m.\u001b[49m\u001b[43mplot\u001b[49m(X, Y)\n\u001b[32m      3\u001b[39m plt.show()\n",
                        "\u001b[36mFile \u001b[39m\u001b[32m~/Bureau/espaces/travail/FAC/M1 Info/ACID/venv/lib/python3.11/site-packages/matplotlib/_api/__init__.py:218\u001b[39m, in \u001b[36mcaching_module_getattr.<locals>.__getattr__\u001b[39m\u001b[34m(name)\u001b[39m\n\u001b[32m    216\u001b[39m \u001b[38;5;28;01mif\u001b[39;00m name \u001b[38;5;129;01min\u001b[39;00m props:\n\u001b[32m    217\u001b[39m     \u001b[38;5;28;01mreturn\u001b[39;00m props[name].\u001b[34m__get__\u001b[39m(instance)\n\u001b[32m--> \u001b[39m\u001b[32m218\u001b[39m \u001b[38;5;28;01mraise\u001b[39;00m \u001b[38;5;167;01mAttributeError\u001b[39;00m(\n\u001b[32m    219\u001b[39m     \u001b[33mf\u001b[39m\u001b[33m\"\u001b[39m\u001b[33mmodule \u001b[39m\u001b[38;5;132;01m{\u001b[39;00m\u001b[38;5;28mcls\u001b[39m.\u001b[34m__module__\u001b[39m\u001b[38;5;132;01m!r}\u001b[39;00m\u001b[33m has no attribute \u001b[39m\u001b[38;5;132;01m{\u001b[39;00mname\u001b[38;5;132;01m!r}\u001b[39;00m\u001b[33m\"\u001b[39m)\n",
                        "\u001b[31mAttributeError\u001b[39m: module 'matplotlib' has no attribute 'plot'"
                    ]
                }
            ],
            "source": [
                "import matplotlib as plt\n",
                "plt.plot(X, Y)\n",
                "plt.show()"
            ]
        },
        {
            "cell_type": "code",
            "execution_count": null,
            "metadata": {},
            "outputs": [],
            "source": []
        },
        {
            "cell_type": "markdown",
            "metadata": {},
            "source": []
        },
        {
            "cell_type": "markdown",
            "metadata": {},
            "source": [
                "4. Faites la régression multiple de la Valeur totale en fonction des autres facteurs (quand c’est possible). Analysez les résultats obtenus.  Appuyez vous sur l'exemple vu en cours pour la méthode à suivre et l'utilisation de bibliothèques."
            ]
        },
        {
            "cell_type": "code",
            "execution_count": null,
            "metadata": {},
            "outputs": [],
            "source": []
        },
        {
            "cell_type": "code",
            "execution_count": null,
            "metadata": {},
            "outputs": [],
            "source": []
        },
        {
            "cell_type": "code",
            "execution_count": null,
            "metadata": {},
            "outputs": [],
            "source": []
        },
        {
            "cell_type": "code",
            "execution_count": null,
            "metadata": {},
            "outputs": [],
            "source": []
        },
        {
            "cell_type": "markdown",
            "metadata": {},
            "source": []
        },
        {
            "cell_type": "code",
            "execution_count": null,
            "metadata": {},
            "outputs": [],
            "source": []
        },
        {
            "cell_type": "code",
            "execution_count": null,
            "metadata": {},
            "outputs": [],
            "source": []
        },
        {
            "cell_type": "markdown",
            "metadata": {},
            "source": []
        },
        {
            "cell_type": "code",
            "execution_count": null,
            "metadata": {},
            "outputs": [],
            "source": []
        },
        {
            "cell_type": "code",
            "execution_count": null,
            "metadata": {},
            "outputs": [],
            "source": []
        }
    ],
    "metadata": {
        "kernelspec": {
            "display_name": "venv",
            "language": "python",
            "name": "python3"
        },
        "language_info": {
            "codemirror_mode": {
                "name": "ipython",
                "version": 3
            },
            "file_extension": ".py",
            "mimetype": "text/x-python",
            "name": "python",
            "nbconvert_exporter": "python",
            "pygments_lexer": "ipython3",
            "version": "3.11.2"
        }
    },
    "nbformat": 4,
    "nbformat_minor": 2
}
