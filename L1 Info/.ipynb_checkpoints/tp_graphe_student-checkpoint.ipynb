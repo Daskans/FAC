{
 "cells": [
  {
   "cell_type": "markdown",
   "id": "c1c777a0-1c21-4ec0-bbcc-2fcf3db187c0",
   "metadata": {
    "tags": []
   },
   "source": [
    "## Introduction\n",
    "\n",
    "Un graphe est une modélisation d’un ensemble (non vide) d’objets reliés entre eux ; les objets sont appelés sommets, et les liens entre les objets sont appelés arêtes. On peut utiliser les graphes pour représenter diverses situations courantes : des liens d’amitié entre personnes, les matches entre équipes de sport, les liaisons moléculaires entre des atomes, les routes entre les villes, un labyrinthe ou encore le monde dans lequel évolue un personnage de jeu vidéo. Cette liste n'est bien sûr pas exhaustive.\n",
    "\n",
    "Nous vous fournissons un module qui donne une définition python de la classe des graphes. Pour utiliser ce module il faut commencer par l’importer, et toute session de travail sur les graphes doit commencer par l'exécution de la cellule suivante:  "
   ]
  },
  {
   "cell_type": "code",
   "execution_count": 4,
   "id": "2bed743c-e8e5-4a5a-8f16-7d2d0c09f9d4",
   "metadata": {},
   "outputs": [],
   "source": [
    "from bibgraphes import *"
   ]
  },
  {
   "cell_type": "markdown",
   "id": "7694af3a-6470-4774-8bae-bc50eb43a68e",
   "metadata": {},
   "source": [
    "Les instructions suivantes sont à tester pour vérifier le bon fonctionnement des outils. Il est fortement conseillé de prendre un peu de temps pour réaliser les tests et faire éventuellement les réglages nécessaires sur votre distribution Python (Anaconda) afin de pouvoir visualiser correctement les graphes. Normalement le graphe s'affiche dans un nouvel onglet du navigateur."
   ]
  },
  {
   "cell_type": "code",
   "execution_count": 5,
   "id": "b339905a-eee3-413f-a476-e3b3d3f860b7",
   "metadata": {},
   "outputs": [],
   "source": [
    "tgv = ouvrirGraphe(\"./graphes/tgv.dot\")\n",
    "afficherGraphe(tgv)"
   ]
  },
  {
   "cell_type": "code",
   "execution_count": 50,
   "id": "426cfe36-d11c-4660-af04-89a6683a174e",
   "metadata": {},
   "outputs": [],
   "source": [
    "g=ouvrirGraphe(\"./graphes/graphe1.dot\")\n",
    "afficherGraphe(g)"
   ]
  },
  {
   "cell_type": "markdown",
   "id": "fb925cf7-b729-403c-ba68-32d987baa588",
   "metadata": {},
   "source": [
    "## API bibgraphes\n",
    "\n",
    "En dehors des deux fonctions permettant d'ouvrir et d'afficher un graphe vous disposez également des fonctions suivantes\n",
    "\n",
    "\n",
    "| Fonctions | Descriptions |\n",
    "|:-----------------------------------|:----------------------------------|\n",
    "|**listeSommets(G:graphe)->list**        | retourne la liste des sommets de G |\n",
    "|**sommetNom(G:graphe, etiquette:str)->sommet** |retourne le sommet de G désigné par son nom (etiquette), par exemple : sommetNom(tgv, \"Bordeaux\")|\n",
    "|**colorierSommet(s:sommet,c:str)**      | colorie le sommet s avec la couleur c (par exemple \"red\")|\n",
    "|**couleurSommet(s:sommet)->str**        |retourne la couleur du sommet s|\n",
    "|**listeVoisins(s:sommet)->list**        | retourne la liste des voisins du sommet s|\n",
    "|**degre(s:sommet)->int**                | retourne le degré du sommet s, qui est aussi la taille de la liste des voisins|"
   ]
  },
  {
   "cell_type": "markdown",
   "id": "1302c55e-eb3b-40a2-a447-352443649764",
   "metadata": {},
   "source": [
    "Pour nous familiariser avec l'API de *bibgraphes* nous allons essayer de colorier tous les voisins d'un sommet $s$ avec la couleur $c$. Colorier en jaune (\"yellow\") les voisins de *Bordeaux*"
   ]
  },
  {
   "cell_type": "code",
   "execution_count": 36,
   "id": "5103e15d-a7bb-4eb3-a285-ffdc83aec230",
   "metadata": {},
   "outputs": [
    {
     "name": "stdout",
     "output_type": "stream",
     "text": [
      "<sommet: 'Paris', 'yellow', False>\n"
     ]
    }
   ],
   "source": [
    "def colorierVoisins(s:sommet, c:str):\n",
    "    Voisins=listeVoisins(s)\n",
    "    for i in range(len(Voisins)):\n",
    "        colorierSommet(Voisins[i],c)\n",
    "print(listeSommets(tgv)[1])"
   ]
  },
  {
   "cell_type": "markdown",
   "id": "7e26a1c5-bdc2-4057-a7e4-02b235f7adc6",
   "metadata": {},
   "source": [
    "Exécuter les instructions suivantes"
   ]
  },
  {
   "cell_type": "code",
   "execution_count": 40,
   "id": "c1edb60e-786e-479f-a852-0354b1e2a551",
   "metadata": {},
   "outputs": [],
   "source": [
    "bx = sommetNom(tgv, \"Bordeaux\")\n",
    "colorierVoisins(bx, \"yellow\")\n",
    "afficherGraphe(tgv)"
   ]
  },
  {
   "cell_type": "markdown",
   "id": "140ea1c9-eb41-4757-83e2-c4dc24b0c017",
   "metadata": {},
   "source": [
    "En utilisant la formule des **poignées de mains**, écrire une fonction `nombreAretes` qui calcule et retourne le nombre d’arêtes d’un graphe G."
   ]
  },
  {
   "cell_type": "code",
   "execution_count": 30,
   "id": "b548da3c-b0cd-4518-84c3-8dc9359ace24",
   "metadata": {},
   "outputs": [],
   "source": [
    "def nbAretes(G:graphe)->int:\n",
    "    S=listeSommets(G)\n",
    "    Nb=0\n",
    "    for i in range(len(S)):\n",
    "        Nb+=degre(S[i])\n",
    "    return Nb/2"
   ]
  },
  {
   "cell_type": "markdown",
   "id": "b798d079-de02-4870-80d4-397c838fe161",
   "metadata": {},
   "source": [
    "Afficher *graphe1.dot* puis tester votre fonction avec ce graphe pour vérifier quelle affiche le bon nombre d'arêtes."
   ]
  },
  {
   "cell_type": "code",
   "execution_count": 31,
   "id": "6589cc5c-11c5-4e8b-bf15-41da249dea1d",
   "metadata": {},
   "outputs": [
    {
     "data": {
      "text/plain": [
       "20.0"
      ]
     },
     "execution_count": 31,
     "metadata": {},
     "output_type": "execute_result"
    }
   ],
   "source": [
    "nbAretes(tgv)"
   ]
  },
  {
   "cell_type": "markdown",
   "id": "14387d81-5488-45eb-aa42-20e567243073",
   "metadata": {},
   "source": [
    "# Partie A: \n",
    " \n",
    "* **Graphe simple:**: un graphe est dit simple s’il n’a ni boucle, ni arête multiple ; autrement dit, les extrémités d’une arête sont toujours distinctes, et il existe au plus une arête qui relie deux sommets $s$ et $t$ distincts. Par exemple, le graphe du **tgv** est simple.\n",
    "* **Graphe complet:**  un graphe complet est un graphe où tout sommet est relié à chacun des autres par une arête. \n",
    "\n",
    "Écrire la fonction `estSimple` qui permet de vérifier qu'un sommet n'apparait pas deux fois dans une liste de voisins. Dans un premier temps nous écrirons une version naïve qui vérifie qu'il n'y a pas plusieurs fois la même occurrence dans la liste des voisins. Les règles du **coder propre** (clean code) préconisent des fonctions courtes et qui ne font qu'une chose à la fois. Il sera bien vu d'écrire une fonction séparée pour détecter le nb d'occurrences."
   ]
  },
  {
   "cell_type": "code",
   "execution_count": 69,
   "id": "136983f1-3177-4bbf-b76e-6e22a1172d79",
   "metadata": {},
   "outputs": [],
   "source": [
    "\n",
    "\n",
    "def estSimple(G:graphe)->bool:\n",
    "    global count1\n",
    "    for i in listeSommets(G):\n",
    "        for j in listeVoisins(i):\n",
    "            count1+=1\n",
    "            if nb_occurence(j,listeVoisins(i)) > 1:\n",
    "                return False\n",
    "    return True\n",
    "                   \n",
    "def nb_occurence(s,l):\n",
    "    o=0\n",
    "    for i in range(len(l)):\n",
    "        if l[i]==s:\n",
    "            o+=1\n",
    "    return o\n",
    "    \n"
   ]
  },
  {
   "cell_type": "markdown",
   "id": "fea1e0d1-246b-4e76-96ed-a1b397d32f64",
   "metadata": {},
   "source": [
    "Tester la fonction `estSimple` sur les graphes *tgv.dot* et *graphe1.dot*"
   ]
  },
  {
   "cell_type": "code",
   "execution_count": 48,
   "id": "f59d30be-a023-4588-a7f1-86c44b0ad7e6",
   "metadata": {},
   "outputs": [
    {
     "data": {
      "text/plain": [
       "True"
      ]
     },
     "execution_count": 48,
     "metadata": {},
     "output_type": "execute_result"
    }
   ],
   "source": [
    "estSimple(tgv)"
   ]
  },
  {
   "cell_type": "code",
   "execution_count": 51,
   "id": "f37fc033-3cf2-4c77-b8e4-38a86bfbdd8a",
   "metadata": {},
   "outputs": [
    {
     "data": {
      "text/plain": [
       "False"
      ]
     },
     "execution_count": 51,
     "metadata": {},
     "output_type": "execute_result"
    }
   ],
   "source": [
    "estSimple(g)"
   ]
  },
  {
   "cell_type": "markdown",
   "id": "f94db956-4d40-4e4e-a57f-add51a8b9a80",
   "metadata": {},
   "source": [
    "Évaluer la complexité de la fonction `estSimple` : Vous repondrez à cette question dans cette même cellule en faisant un double clic dessus\n",
    "\n",
    "La complexité de `estSimple` est de n²"
   ]
  },
  {
   "cell_type": "markdown",
   "id": "6ff8e078-e640-4fe0-8c40-9cc8caa540dd",
   "metadata": {},
   "source": [
    "Un algorithme plus efficace pour tester si tous les sommets d’une liste sont distincts est de marquer chaque sommet en parcourant la liste, et si l’on rencontre un sommet déjà marqué pendant ce parcours on sait que ce sommet est présent plusieurs fois dans la liste. Cette méthode comporte un piège, car un sommet marqué le reste ! Si un utilisateur applique deux fois la fonction à la même liste on va trouver, lors de la seconde passe, que le premier sommet est marqué, et on va en déduire, à tort, qu’il s’agit d’un sommet répété. Il faut donc commencer par démarquer tous les sommets avant d’appliquer l’algorithme .\n",
    "\n",
    "| Fonctions | Descriptions |\n",
    "|:-----------------------------------|:----------------------------------|\n",
    "|**marquerSommet(s:sommet)**             | marque le sommet s|\n",
    "|**demarquerSommet(s:sommet)**           | démarque le sommet s|\n",
    "|**estMarqueSommet(s:sommet)->bool**     | retourne True si s est marqué, False sinon|\n",
    "\n",
    "Marquez le sommet Bordeaux du graphe du *tgv* puis dessinez le graphe pour observer comment est effectué le marquage."
   ]
  },
  {
   "cell_type": "code",
   "execution_count": 58,
   "id": "5e449987-891a-41b9-a6ab-ff7b8947ec04",
   "metadata": {},
   "outputs": [],
   "source": [
    "#marquerSommet(sommetNom(tgv,\"Bordeaux\"))\n",
    "demarquerSommet(sommetNom(tgv,\"Lyon\"))\n",
    "afficherGraphe(tgv)"
   ]
  },
  {
   "cell_type": "markdown",
   "id": "d9590c8c-6b9b-4b4c-95ac-2eff0bfbfeee",
   "metadata": {},
   "source": [
    "À l'aide de l'algorithme ci-dessus, écrire une fonction `estSimpleAmeliore`."
   ]
  },
  {
   "cell_type": "code",
   "execution_count": 70,
   "id": "2031b3e5-ba57-4c77-91ee-8ea901cc904b",
   "metadata": {},
   "outputs": [],
   "source": [
    "\n",
    "def estSimpleAmeliore(G:graphe)->bool:\n",
    "    global count2\n",
    "    for i in listeSommets(G):\n",
    "        count2+=1\n",
    "        if marquage(i):\n",
    "            return False\n",
    "    return True\n",
    "\n",
    "def marquage(lS):\n",
    "    for i in listeVoisins(lS):\n",
    "        if not estMarqueSommet(i):\n",
    "            marquerSommet(i)\n",
    "        else:\n",
    "            return True\n",
    "    for i in listeVoisins(lS):\n",
    "        demarquerSommet(i)\n",
    "    return False"
   ]
  },
  {
   "cell_type": "markdown",
   "id": "0b405ce6-d10b-42e5-a5c5-5d479bef70f2",
   "metadata": {},
   "source": [
    "Tester la fonction `estSimpleAmeliore` sur les graphes *tgv.dot* et *graphe1.dot*"
   ]
  },
  {
   "cell_type": "code",
   "execution_count": 64,
   "id": "ce413c70-82ed-49e6-87fa-94ef3c2f7ada",
   "metadata": {},
   "outputs": [
    {
     "data": {
      "text/plain": [
       "True"
      ]
     },
     "execution_count": 64,
     "metadata": {},
     "output_type": "execute_result"
    }
   ],
   "source": [
    "estSimpleAmeliore(tgv)"
   ]
  },
  {
   "cell_type": "code",
   "execution_count": 66,
   "id": "48c221e8-bf0b-49db-915a-9afe485b467e",
   "metadata": {},
   "outputs": [
    {
     "data": {
      "text/plain": [
       "False"
      ]
     },
     "execution_count": 66,
     "metadata": {},
     "output_type": "execute_result"
    }
   ],
   "source": [
    "estSimpleAmeliore(g)"
   ]
  },
  {
   "cell_type": "markdown",
   "id": "2813ae13-b15e-44b6-871e-3b919282ae4b",
   "metadata": {},
   "source": [
    "En ajoutant deux variables globales `count1` pour `estSimple` et `count2` pour `estSimpleAmeliore` évaluer la complexité expérimentale de ces fonctions sur les graphes *tgv.dot* et *graphe1.dot*. \n",
    "\n",
    "Pour utiliser une variable globale on l'initialise en dehors de la fonction et on la déclare `global` dans la fonction avant de l'utiliser.\n",
    "```python\n",
    "count = 0\n",
    "\n",
    "def estSimple(G):\n",
    "    global count\n",
    "    ...\n",
    "    count += 1\n",
    "```"
   ]
  },
  {
   "cell_type": "markdown",
   "id": "79d27a29-21c1-4391-8efc-65c9e658235c",
   "metadata": {},
   "source": [
    "Exécuter les cellules suivantes pour tester vos modifications"
   ]
  },
  {
   "cell_type": "code",
   "execution_count": 71,
   "id": "05ab367c-4f27-4836-9187-9006b4b803ea",
   "metadata": {},
   "outputs": [
    {
     "name": "stdout",
     "output_type": "stream",
     "text": [
      "simple tgv: 40\n",
      "simple g: 41\n"
     ]
    }
   ],
   "source": [
    "count1 = 0\n",
    "estSimple(tgv)\n",
    "print(f\"simple tgv: {count1}\")\n",
    "estSimple(g)\n",
    "print(f\"simple g: {count1}\")"
   ]
  },
  {
   "cell_type": "code",
   "execution_count": 73,
   "id": "77757458-b09a-4bff-be35-7913c2eecedb",
   "metadata": {},
   "outputs": [
    {
     "name": "stdout",
     "output_type": "stream",
     "text": [
      "amélioré tgv: 9\n",
      "amélioré graphe1: 10\n"
     ]
    }
   ],
   "source": [
    "count2 = 0\n",
    "estSimpleAmeliore(tgv)\n",
    "print(f\"amélioré tgv: {count2}\")\n",
    "estSimpleAmeliore(g)\n",
    "print(f\"amélioré graphe1: {count2}\")"
   ]
  },
  {
   "cell_type": "markdown",
   "id": "efd42d39-6bc9-468b-9639-37257b565e86",
   "metadata": {},
   "source": [
    "# Partie B :\n",
    "\n",
    "* **Graphe connexe:** Un graphe est connexe si, par définition : pour tous sommets $s$ et $t$, il existe une chaîne qui relie $s$ et $t$.\n",
    "* **Accessibilité:** On dit que le sommet $t$ est accessible à partir du sommet s s’il existe une chaîne reliant $s$ et\n",
    "$t$. En théorie, il est facile de construire progressivement l’ensemble $A$ des sommets accessibles depuis s en utilisant l’algorithme suivant :\n",
    "1. initialisation : $A = {s}$ ;\n",
    "2. tant qu’il existe un sommet $x \\notin A$ qui est voisin d’un sommet de $A$, ajouter $x$ à $A$\n",
    "\n",
    "Lorsque cet algorithme se termine, l’ensemble $A$ contient tous les sommets accessibles depuis $s$. Pour savoir si le sommet t est accessible depuis $s$, il suffit donc de tester si le sommet $t$ appartient à l’ensemble $A$, alors $t$ est accessible depuis $s$, sinon il ne l’est pas."
   ]
  },
  {
   "cell_type": "markdown",
   "id": "2f7637a2-6a1e-43df-a94f-ab0caa7f2c84",
   "metadata": {},
   "source": [
    "Écrire la fonction `sommetAccessible` qui retourne un sommet non marqué ayant au moins un voisin marqué, ou bien retourne None s’il n’existe pas de tel sommet ;"
   ]
  },
  {
   "cell_type": "code",
   "execution_count": 76,
   "id": "d90ec722-50ec-4990-849c-7bbc29cd112e",
   "metadata": {},
   "outputs": [],
   "source": [
    "def sommetAccessible(G:graphe)->sommet:\n",
    "    for i in listeSommets(G):\n",
    "        if not estMarqueSommet(i) and voisinMarque(i):\n",
    "            return i\n",
    "    return None\n",
    "\n",
    "def voisinMarque(s):\n",
    "    for i in listeVoisins(s):\n",
    "        if estMarqueSommet(i):\n",
    "            return True\n",
    "    return False\n",
    "sommetAccessible(tgv)"
   ]
  },
  {
   "cell_type": "markdown",
   "id": "63a0dace-9c60-4ed2-88d3-58004e2cea7f",
   "metadata": {},
   "source": [
    "Écrire une fonction `marquerAccessibles` qui effectue les étapes suivantes :\n",
    "1. elle marque d’abord le sommet $s$,\n",
    "2. elle utilise ensuite une boucle `while` : tant que sommetAccessible retourne un sommet (et non None), elle le marque."
   ]
  },
  {
   "cell_type": "code",
   "execution_count": 81,
   "id": "a6f659ba-7a17-4acd-9597-7fbc7ee060e8",
   "metadata": {},
   "outputs": [],
   "source": [
    "def marquerAccessibles(G:graphe,s:sommet):\n",
    "    marquerSommet(s)\n",
    "    while sommetAccessible(G):\n",
    "        marquerSommet(sommetAccessible(G))\n",
    "        \n",
    "    "
   ]
  },
  {
   "cell_type": "markdown",
   "id": "0712f9c0-5f0b-477e-90b3-66c989233cad",
   "metadata": {},
   "source": [
    "Tester votre implémentation avec les instructions suivantes"
   ]
  },
  {
   "cell_type": "code",
   "execution_count": 82,
   "id": "3d7557c4-fef3-46f1-a696-0abdf54b2fe4",
   "metadata": {},
   "outputs": [],
   "source": [
    "marquerAccessibles(tgv, bx)\n",
    "afficherGraphe(tgv)"
   ]
  },
  {
   "cell_type": "markdown",
   "id": "f7855e64-f140-4682-9dd0-b22d286e5157",
   "metadata": {},
   "source": [
    "Pour que cela soit moins coûteux, modifier éventuellement la fonction `marquerAccessibles` de façon à n’appeler la fonction `sommetAccessible` qu’une seule fois par tour de boucle while."
   ]
  },
  {
   "cell_type": "markdown",
   "id": "e338fe56-ee1b-4d65-ac0f-73560955dc40",
   "metadata": {},
   "source": [
    "Écrire une fonction `estConnexe` qui teste si le graphe G est connexe. Cette fonction tire un sommet de manière aléatoire. Attention à bien démarquer tous les sommets dès le départ. **Pensez à respecter les règles du clean code**"
   ]
  },
  {
   "cell_type": "code",
   "execution_count": 97,
   "id": "2f7cc3fe-9fe5-4739-9696-5fcca70abc5f",
   "metadata": {},
   "outputs": [],
   "source": [
    "from random import randint as rd\n",
    "\n",
    "def elementAleatoireListe(L):\n",
    "    return L[rd(0,len(L)-1)]\n",
    "\n",
    "def estConnexe(G):\n",
    "    toutDemarquer(G)\n",
    "    marquerAccessibles(G,elementAleatoireListe(listeSommets(G)))\n",
    "    for i in listeSommets(G):\n",
    "        if not estMarqueSommet(i):\n",
    "            return False\n",
    "    return True\n",
    "\n",
    "def toutDemarquer(G):\n",
    "    for i in listeSommets(G):\n",
    "        demarquerSommet(i)"
   ]
  },
  {
   "cell_type": "markdown",
   "id": "e6c4f4c9-2ba9-4c2a-8ff6-b5d6fe58f8c3",
   "metadata": {},
   "source": [
    "Tester la fonction `estConnexe` avec le graphe tgv"
   ]
  },
  {
   "cell_type": "code",
   "execution_count": 98,
   "id": "7723cf8c-0132-4b53-8ab5-a049b736628f",
   "metadata": {},
   "outputs": [
    {
     "name": "stdout",
     "output_type": "stream",
     "text": [
      "False\n"
     ]
    }
   ],
   "source": [
    "print(estConnexe(tgv))\n",
    "afficherGraphe(tgv)"
   ]
  },
  {
   "cell_type": "code",
   "execution_count": 99,
   "id": "c0b6a748-86a1-47e2-a364-69bc1995ae5e",
   "metadata": {},
   "outputs": [
    {
     "name": "stdout",
     "output_type": "stream",
     "text": [
      "True\n"
     ]
    }
   ],
   "source": [
    "print(estConnexe(g))\n",
    "afficherGraphe(g)"
   ]
  },
  {
   "cell_type": "code",
   "execution_count": null,
   "id": "600dff32-451d-46c8-9b71-b66af77f0d7a",
   "metadata": {},
   "outputs": [],
   "source": []
  }
 ],
 "metadata": {
  "full-user-track-cell": "rc C1 C3 C6 C1 C3 C6 C6 C6 C6 C6 C6 C6 C6 C6 C6 C6 C6 C6 C8 C6 C8 C12 C10 C12 C10 C12 C6 C6 C8 C10 C12 C8 C6 C6 C6 C6 C8 C8 C8 C8 C14 C14 C14 C14 C14 C14 C16 C17 C17 C20 C20 C20 C20 C20 C20 C20 C24 C22 C24 C25 C24 C24 C25 C25 C28 C29 C14 C22 C28 C29 C29 C32 C32 C32 C36 C34 C36 C39 C41 C39 C41 C39 C41 C39 C41 C39 C41 C39 C41 C39 C41 C39 C41",
  "full-user-track-date": "sc 14:19:14  14:19:31  14:22:39  14:22:43  14:22:44  14:23:49  14:24:35  14:25:23  14:25:35  14:25:57  14:26:25  14:27:5  14:27:39  14:27:45  14:28:49  14:28:55  14:29:14  14:31:18  14:32:8  14:33:22  14:33:25  14:37:24  14:37:31  14:37:33  14:37:43  14:37:44  14:53:44  14:54:24  14:54:25  14:54:29  14:54:31  14:54:40  14:56:19  14:56:28  14:56:38  14:56:46  14:58:56  14:59:6  14:59:18  14:59:37  15:19:45  15:20:46  15:20:55  15:21:32  15:22:11  15:24:13  15:24:23  15:24:42  15:24:53  15:33:2  15:33:18  15:33:35  15:33:52  15:34:6  15:34:34  15:34:45  15:48:35  15:48:40  15:48:41  15:48:47  15:49:35  15:49:36  15:49:38  15:49:40  15:53:25  15:53:29  15:56:20  15:56:23  15:56:25  15:56:27  15:56:28  16:20:26  16:20:57  16:25:46  16:31:44  16:32:4  16:32:5  16:39:8  16:39:10  16:39:21  16:39:22  16:39:31  16:39:32  16:39:52  16:39:53  16:40:33  16:40:34  16:42:25  16:42:26  16:42:48  16:42:49  16:42:56  16:42:57 ",
  "kernelspec": {
   "display_name": "Python 3 (ipykernel)",
   "language": "python",
   "name": "python3"
  },
  "language_info": {
   "codemirror_mode": {
    "name": "ipython",
    "version": 3
   },
   "file_extension": ".py",
   "mimetype": "text/x-python",
   "name": "python",
   "nbconvert_exporter": "python",
   "pygments_lexer": "ipython3",
   "version": "3.10.8"
  },
  "moon-script": "( C1 T0 C3 T2 C6 T4 T5 C8 T7 C10 T9 C12 T11 ) [ ( C14 T13 [ C16 T15 C17 T15] C20 T18 T19 C22 T21 [ C24 T23 C25 T23 ] [ C22 T26 C14 T26 ] C28 T27 C29 T27) ( C32 T30 T31 C34 T33 C36 T35 C34 T37 C39 T38 C41 T40 ) ]"
 },
 "nbformat": 4,
 "nbformat_minor": 5
}
